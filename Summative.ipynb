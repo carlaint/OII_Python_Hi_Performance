{
 "cells": [
  {
   "cell_type": "markdown",
   "metadata": {},
   "source": [
    ".\n",
    "# Supplementary Information : Benford's Law in Online Collaborative Platforms  "
   ]
  },
  {
   "cell_type": "markdown",
   "metadata": {},
   "source": [
    "# Google BigQuery"
   ]
  },
  {
   "cell_type": "code",
   "execution_count": 123,
   "metadata": {},
   "outputs": [],
   "source": [
    "#source: https://www.blendo.co/blog/access-data-google-bigquery-python-r/\n",
    "#https://www.kaggle.com/sohier/how-to-integrate-bigquery-pandas\n",
    "import time\n",
    "from google.cloud import bigquery\n",
    "import pandas as pd\n",
    "import math\n",
    "import numpy as np\n",
    "%load_ext memory_profiler\n",
    "%load_ext line_profiler"
   ]
  },
  {
   "cell_type": "code",
   "execution_count": 4,
   "metadata": {},
   "outputs": [],
   "source": [
    "from google.oauth2 import service_account"
   ]
  },
  {
   "cell_type": "code",
   "execution_count": 7,
   "metadata": {},
   "outputs": [
    {
     "name": "stdout",
     "output_type": "stream",
     "text": [
      "/Users/carla/Desktop/MSc Social Data Science/Data Analytics at Scale\n"
     ]
    }
   ],
   "source": [
    "cd \"/Users/Carla/Desktop/MSc Social Data Science/Data Analytics at Scale\""
   ]
  },
  {
   "cell_type": "code",
   "execution_count": 8,
   "metadata": {},
   "outputs": [],
   "source": [
    "#get credentials here: https://console.cloud.google.com/apis/credentials?project=github-oii-summative&folder&organizationId\n",
    "credentials = service_account.Credentials.from_service_account_file('Github-Oii-Summative-983e8fb0d7b8.json')"
   ]
  },
  {
   "cell_type": "code",
   "execution_count": 23,
   "metadata": {},
   "outputs": [],
   "source": [
    "project_id = 'github-oii-summative'"
   ]
  },
  {
   "cell_type": "code",
   "execution_count": 24,
   "metadata": {},
   "outputs": [],
   "source": [
    "client = bigquery.Client(credentials= credentials,project=project_id)"
   ]
  },
  {
   "cell_type": "raw",
   "metadata": {},
   "source": [
    "##legacy SQL code, I couldn't get it to run in python so I ran the code in my BigQuery account and queried all from there.\n",
    "\n",
    "query_job = client.query(\"\"\"\n",
    "\n",
    "SELECT \n",
    "  actor.login AS actor_login,\n",
    "  COUNT(1) AS events_actor_count\n",
    "FROM\n",
    "`githubarchive:year.2017` as gb17, \n",
    "`githubarchive:year.2016` as gb16, \n",
    "`githubarchive:year.2015` as gb15, \n",
    "`githubarchive:year.2014` as gb14, \n",
    "`githubarchive:year.2013` as gb13,\n",
    "`githubarchive:year.2012` as gb12,\n",
    "`githubarchive:year.2011` as gb11 \n",
    "\n",
    "WHERE\n",
    "  type = 'CommitCommentEvent'\n",
    "    OR type = 'PushEvent'\n",
    "    OR type = 'IssueCommentEvent'\n",
    "    OR type = 'PullRequestEvent'\n",
    "    OR type = 'PullRequestReviewCommentEvent'\n",
    "    OR type = 'IssuesEvent'\n",
    "GROUP BY\n",
    "  actor_login\n",
    "ORDER BY\n",
    "  events_actor_count DESC\n",
    "  \n",
    "  \"\"\")\n",
    "\n",
    "results = query_job.result()"
   ]
  },
  {
   "cell_type": "code",
   "execution_count": 325,
   "metadata": {},
   "outputs": [],
   "source": [
    "# query_job = client.query(\"\"\"\n",
    "\n",
    "# SELECT *\n",
    "# FROM\n",
    "# `github-oii-summative.Github_Contributors.results_20181202_014906` as gh \n",
    "\n",
    "# \"\"\")\n"
   ]
  },
  {
   "cell_type": "code",
   "execution_count": 133,
   "metadata": {},
   "outputs": [
    {
     "data": {
      "text/plain": [
       "(10211912, 4)"
      ]
     },
     "execution_count": 133,
     "metadata": {},
     "output_type": "execute_result"
    }
   ],
   "source": [
    "#results = results.drop(\"firstnum\", axis=1)\n",
    "results.shape"
   ]
  },
  {
   "cell_type": "code",
   "execution_count": 56,
   "metadata": {},
   "outputs": [],
   "source": [
    "#results.to_csv(r'GitHub.txt', index=None, sep=',', mode='a')"
   ]
  },
  {
   "cell_type": "markdown",
   "metadata": {},
   "source": [
    "# Setting up dataframe for analysis"
   ]
  },
  {
   "cell_type": "markdown",
   "metadata": {},
   "source": [
    "Trying out a subset from the df"
   ]
  },
  {
   "cell_type": "code",
   "execution_count": 155,
   "metadata": {},
   "outputs": [],
   "source": [
    "results = pd.read_csv(\"Github.txt\")"
   ]
  },
  {
   "cell_type": "code",
   "execution_count": 335,
   "metadata": {},
   "outputs": [
    {
     "data": {
      "text/html": [
       "<div>\n",
       "<style scoped>\n",
       "    .dataframe tbody tr th:only-of-type {\n",
       "        vertical-align: middle;\n",
       "    }\n",
       "\n",
       "    .dataframe tbody tr th {\n",
       "        vertical-align: top;\n",
       "    }\n",
       "\n",
       "    .dataframe thead th {\n",
       "        text-align: right;\n",
       "    }\n",
       "</style>\n",
       "<table border=\"1\" class=\"dataframe\">\n",
       "  <thead>\n",
       "    <tr style=\"text-align: right;\">\n",
       "      <th></th>\n",
       "      <th>actor_login</th>\n",
       "      <th>events_actor_count</th>\n",
       "      <th>firstnum</th>\n",
       "      <th>secondnum</th>\n",
       "    </tr>\n",
       "  </thead>\n",
       "  <tbody>\n",
       "    <tr>\n",
       "      <th>4127894</th>\n",
       "      <td>LombiqBot</td>\n",
       "      <td>19043010</td>\n",
       "      <td>1</td>\n",
       "      <td>19</td>\n",
       "    </tr>\n",
       "    <tr>\n",
       "      <th>6169363</th>\n",
       "      <td>OpenLocalizationTest</td>\n",
       "      <td>4004083</td>\n",
       "      <td>4</td>\n",
       "      <td>40</td>\n",
       "    </tr>\n",
       "    <tr>\n",
       "      <th>8211679</th>\n",
       "      <td>grid-bot</td>\n",
       "      <td>2096788</td>\n",
       "      <td>2</td>\n",
       "      <td>20</td>\n",
       "    </tr>\n",
       "    <tr>\n",
       "      <th>1063339</th>\n",
       "      <td>ssbattousai</td>\n",
       "      <td>2039017</td>\n",
       "      <td>2</td>\n",
       "      <td>20</td>\n",
       "    </tr>\n",
       "    <tr>\n",
       "      <th>5148234</th>\n",
       "      <td>tmtmtmtm</td>\n",
       "      <td>1578035</td>\n",
       "      <td>1</td>\n",
       "      <td>15</td>\n",
       "    </tr>\n",
       "    <tr>\n",
       "      <th>9232944</th>\n",
       "      <td>KenanSulayman</td>\n",
       "      <td>1573479</td>\n",
       "      <td>1</td>\n",
       "      <td>15</td>\n",
       "    </tr>\n",
       "    <tr>\n",
       "      <th>1063340</th>\n",
       "      <td>everypoliticianbot</td>\n",
       "      <td>1429215</td>\n",
       "      <td>1</td>\n",
       "      <td>14</td>\n",
       "    </tr>\n",
       "    <tr>\n",
       "      <th>41317</th>\n",
       "      <td>direwolf-github</td>\n",
       "      <td>1240492</td>\n",
       "      <td>1</td>\n",
       "      <td>12</td>\n",
       "    </tr>\n",
       "    <tr>\n",
       "      <th>4127895</th>\n",
       "      <td>coveralls</td>\n",
       "      <td>1112175</td>\n",
       "      <td>1</td>\n",
       "      <td>11</td>\n",
       "    </tr>\n",
       "    <tr>\n",
       "      <th>9232945</th>\n",
       "      <td>CodePipeline-Test</td>\n",
       "      <td>1051884</td>\n",
       "      <td>1</td>\n",
       "      <td>10</td>\n",
       "    </tr>\n",
       "    <tr>\n",
       "      <th>4127896</th>\n",
       "      <td>mirror-updates</td>\n",
       "      <td>953397</td>\n",
       "      <td>9</td>\n",
       "      <td>95</td>\n",
       "    </tr>\n",
       "    <tr>\n",
       "      <th>8211680</th>\n",
       "      <td>gugod</td>\n",
       "      <td>738787</td>\n",
       "      <td>7</td>\n",
       "      <td>73</td>\n",
       "    </tr>\n",
       "    <tr>\n",
       "      <th>6169364</th>\n",
       "      <td>asfgit</td>\n",
       "      <td>720292</td>\n",
       "      <td>7</td>\n",
       "      <td>72</td>\n",
       "    </tr>\n",
       "    <tr>\n",
       "      <th>5148235</th>\n",
       "      <td>openstack-gerrit</td>\n",
       "      <td>658274</td>\n",
       "      <td>6</td>\n",
       "      <td>65</td>\n",
       "    </tr>\n",
       "    <tr>\n",
       "      <th>1063341</th>\n",
       "      <td>scriptzteam</td>\n",
       "      <td>632495</td>\n",
       "      <td>6</td>\n",
       "      <td>63</td>\n",
       "    </tr>\n",
       "    <tr>\n",
       "      <th>41318</th>\n",
       "      <td>abodiab</td>\n",
       "      <td>621681</td>\n",
       "      <td>6</td>\n",
       "      <td>62</td>\n",
       "    </tr>\n",
       "    <tr>\n",
       "      <th>4127897</th>\n",
       "      <td>hqtogit</td>\n",
       "      <td>607586</td>\n",
       "      <td>6</td>\n",
       "      <td>60</td>\n",
       "    </tr>\n",
       "    <tr>\n",
       "      <th>41319</th>\n",
       "      <td>houndci-bot</td>\n",
       "      <td>566607</td>\n",
       "      <td>5</td>\n",
       "      <td>56</td>\n",
       "    </tr>\n",
       "    <tr>\n",
       "      <th>4127898</th>\n",
       "      <td>shenzhouzd</td>\n",
       "      <td>561660</td>\n",
       "      <td>5</td>\n",
       "      <td>56</td>\n",
       "    </tr>\n",
       "    <tr>\n",
       "      <th>1063342</th>\n",
       "      <td>chapuni</td>\n",
       "      <td>557120</td>\n",
       "      <td>5</td>\n",
       "      <td>55</td>\n",
       "    </tr>\n",
       "  </tbody>\n",
       "</table>\n",
       "</div>"
      ],
      "text/plain": [
       "                  actor_login  events_actor_count  firstnum  secondnum\n",
       "4127894             LombiqBot            19043010         1         19\n",
       "6169363  OpenLocalizationTest             4004083         4         40\n",
       "8211679              grid-bot             2096788         2         20\n",
       "1063339           ssbattousai             2039017         2         20\n",
       "5148234              tmtmtmtm             1578035         1         15\n",
       "9232944         KenanSulayman             1573479         1         15\n",
       "1063340    everypoliticianbot             1429215         1         14\n",
       "41317         direwolf-github             1240492         1         12\n",
       "4127895             coveralls             1112175         1         11\n",
       "9232945     CodePipeline-Test             1051884         1         10\n",
       "4127896        mirror-updates              953397         9         95\n",
       "8211680                 gugod              738787         7         73\n",
       "6169364                asfgit              720292         7         72\n",
       "5148235      openstack-gerrit              658274         6         65\n",
       "1063341           scriptzteam              632495         6         63\n",
       "41318                 abodiab              621681         6         62\n",
       "4127897               hqtogit              607586         6         60\n",
       "41319             houndci-bot              566607         5         56\n",
       "4127898            shenzhouzd              561660         5         56\n",
       "1063342               chapuni              557120         5         55"
      ]
     },
     "execution_count": 335,
     "metadata": {},
     "output_type": "execute_result"
    }
   ],
   "source": [
    "results.sort_values(by='events_actor_count', ascending=False).head(20)"
   ]
  },
  {
   "cell_type": "code",
   "execution_count": 156,
   "metadata": {},
   "outputs": [],
   "source": [
    "res1 = results.sample(n=1)\n",
    "res10 = results.sample(n=10)\n",
    "res100 = results.sample(n=100)\n",
    "res1k = results.sample(n=1000)\n",
    "res10k = results.sample(n=10000)\n",
    "res100k = results.sample(n=100000)\n",
    "res1m = results.sample(n=1000000)"
   ]
  },
  {
   "cell_type": "code",
   "execution_count": 7,
   "metadata": {},
   "outputs": [
    {
     "data": {
      "text/plain": [
       "dtype('int64')"
      ]
     },
     "execution_count": 7,
     "metadata": {},
     "output_type": "execute_result"
    }
   ],
   "source": [
    "#printing series types via numpy\n",
    "sub_results[\"events_actor_count\"].dtypes"
   ]
  },
  {
   "cell_type": "markdown",
   "metadata": {},
   "source": [
    "# Pandas\n",
    "Convert your number to string and use list slicing "
   ]
  },
  {
   "cell_type": "code",
   "execution_count": 159,
   "metadata": {},
   "outputs": [],
   "source": [
    "def list_slice(df):\n",
    "    df[\"events_actor_count\"] = df[\"events_actor_count\"].astype(str)\n",
    "    df[\"firstnum\"] = df[\"events_actor_count\"].str[0].apply(int)\n",
    "    df[\"secondnum\"] = df[\"events_actor_count\"].str[0:2].apply(int)\n",
    "    df[\"events_actor_count\"] = df[\"events_actor_count\"].astype(int)"
   ]
  },
  {
   "cell_type": "code",
   "execution_count": 129,
   "metadata": {},
   "outputs": [],
   "source": [
    "#bring it back to integer, since you converted to string above\n",
    "results[\"events_actor_count\"] = results[\"events_actor_count\"].astype(int)"
   ]
  },
  {
   "cell_type": "code",
   "execution_count": 57,
   "metadata": {},
   "outputs": [
    {
     "name": "stdout",
     "output_type": "stream",
     "text": [
      "16.2 s ± 473 ms per loop (mean ± std. dev. of 7 runs, 5 loops each)\n"
     ]
    }
   ],
   "source": [
    "%timeit -n 5 list_slice(results)"
   ]
  },
  {
   "cell_type": "code",
   "execution_count": 121,
   "metadata": {},
   "outputs": [
    {
     "name": "stdout",
     "output_type": "stream",
     "text": [
      "2.77 ms ± 956 µs per loop (mean ± std. dev. of 7 runs, 5 loops each)\n",
      "2.34 ms ± 825 µs per loop (mean ± std. dev. of 7 runs, 5 loops each)\n",
      "1.54 ms ± 353 µs per loop (mean ± std. dev. of 7 runs, 5 loops each)\n",
      "3 ms ± 424 µs per loop (mean ± std. dev. of 7 runs, 5 loops each)\n",
      "17.9 ms ± 2.35 ms per loop (mean ± std. dev. of 7 runs, 5 loops each)\n",
      "168 ms ± 10 ms per loop (mean ± std. dev. of 7 runs, 5 loops each)\n",
      "1.63 s ± 124 ms per loop (mean ± std. dev. of 7 runs, 5 loops each)\n"
     ]
    }
   ],
   "source": [
    "%timeit -n 5 list_slice(res1)\n",
    "%timeit -n 5 list_slice(res10)\n",
    "%timeit -n 5 list_slice(res100)\n",
    "%timeit -n 5 list_slice(res1k)\n",
    "%timeit -n 5 list_slice(res10k)\n",
    "%timeit -n 5 list_slice(res100k)\n",
    "%timeit -n 5 list_slice(res1m)"
   ]
  },
  {
   "cell_type": "code",
   "execution_count": 125,
   "metadata": {},
   "outputs": [
    {
     "name": "stdout",
     "output_type": "stream",
     "text": [
      "peak memory: 1928.99 MiB, increment: 840.11 MiB\n"
     ]
    }
   ],
   "source": [
    "%memit list_slice(results)"
   ]
  },
  {
   "cell_type": "code",
   "execution_count": 169,
   "metadata": {},
   "outputs": [
    {
     "data": {
      "text/plain": [
       "Timer unit: 1e-06 s\n",
       "\n",
       "Total time: 24.1751 s\n",
       "File: <ipython-input-114-5a07a853c036>\n",
       "Function: list_slice at line 1\n",
       "\n",
       "Line #      Hits         Time  Per Hit   % Time  Line Contents\n",
       "==============================================================\n",
       "     1                                           def list_slice(df):\n",
       "     2         1     909786.0 909786.0      3.8      df[\"events_actor_count\"] = df[\"events_actor_count\"].astype(str)\n",
       "     3         1   14645551.0 14645551.0     60.6      df[\"firstnum\"] = df[\"events_actor_count\"].str[0].apply(int)\n",
       "     4         1    8619732.0 8619732.0     35.7      df[\"secondnum\"] = df[\"events_actor_count\"].str[0:2].apply(int)"
      ]
     },
     "metadata": {},
     "output_type": "display_data"
    }
   ],
   "source": [
    "%lprun -f list_slice list_slice(results)"
   ]
  },
  {
   "cell_type": "markdown",
   "metadata": {},
   "source": [
    "# Math"
   ]
  },
  {
   "cell_type": "code",
   "execution_count": 127,
   "metadata": {},
   "outputs": [],
   "source": [
    "def math_o(df):\n",
    "    df[\"firstnum\"] = df[\"events_actor_count\"].map(lambda x: x // 10 ** (int(math.log(x, 10)) - 1 + 1))\n",
    "    df[\"secondnum\"] = df[\"events_actor_count\"].map(lambda x: x // 10 ** (int(math.log(x, 10)) - 2 + 1))"
   ]
  },
  {
   "cell_type": "code",
   "execution_count": 133,
   "metadata": {},
   "outputs": [
    {
     "name": "stdout",
     "output_type": "stream",
     "text": [
      "1.2 ms ± 435 µs per loop (mean ± std. dev. of 7 runs, 5 loops each)\n",
      "797 µs ± 87.8 µs per loop (mean ± std. dev. of 7 runs, 5 loops each)\n",
      "2.25 ms ± 671 µs per loop (mean ± std. dev. of 7 runs, 5 loops each)\n",
      "3.11 ms ± 480 µs per loop (mean ± std. dev. of 7 runs, 5 loops each)\n",
      "18.9 ms ± 1.77 ms per loop (mean ± std. dev. of 7 runs, 5 loops each)\n",
      "175 ms ± 10.3 ms per loop (mean ± std. dev. of 7 runs, 5 loops each)\n",
      "1.79 s ± 93.1 ms per loop (mean ± std. dev. of 7 runs, 5 loops each)\n",
      "17.5 s ± 235 ms per loop (mean ± std. dev. of 7 runs, 5 loops each)\n"
     ]
    }
   ],
   "source": [
    "%timeit -n 5 math_o(res1)\n",
    "%timeit -n 5 math_o(res10)\n",
    "%timeit -n 5 math_o(res100)\n",
    "%timeit -n 5 math_o(res1k)\n",
    "%timeit -n 5 math_o(res10k)\n",
    "%timeit -n 5 math_o(res100k)\n",
    "%timeit -n 5 math_o(res1m)\n",
    "%timeit -n 5 math_o(results)"
   ]
  },
  {
   "cell_type": "code",
   "execution_count": 134,
   "metadata": {},
   "outputs": [
    {
     "name": "stdout",
     "output_type": "stream",
     "text": [
      "peak memory: 1433.32 MiB, increment: 254.61 MiB\n"
     ]
    }
   ],
   "source": [
    "%memit math_o(results)"
   ]
  },
  {
   "cell_type": "markdown",
   "metadata": {},
   "source": [
    "# Numpy"
   ]
  },
  {
   "cell_type": "markdown",
   "metadata": {},
   "source": [
    "List slicing has at least O(n) time complexity and the string conversion has O(n) space complexity.  Performance can be seen by the timeit function.  Here is a code for constant time and space complexity."
   ]
  },
  {
   "cell_type": "code",
   "execution_count": 164,
   "metadata": {},
   "outputs": [],
   "source": [
    "def numpy(df):\n",
    "    one = lambda a: a // 10 ** (int(np.math.log(a,10) - 1 + 1))\n",
    "    two = lambda a: a // 10 ** (int(np.math.log(a,10) - 2 + 1))\n",
    "\n",
    "    first_digit = np.vectorize(one)\n",
    "    sec_digit = np.vectorize(two)\n",
    "    col3 = first_digit(df.values[:,1])\n",
    "    col4 = sec_digit(df.values[:,1])\n",
    "    print(col3, col4)"
   ]
  },
  {
   "cell_type": "code",
   "execution_count": 118,
   "metadata": {},
   "outputs": [
    {
     "name": "stdout",
     "output_type": "stream",
     "text": [
      "15.1 s ± 1.53 s per loop (mean ± std. dev. of 7 runs, 5 loops each)\n"
     ]
    }
   ],
   "source": [
    "%timeit -n 5 numpy(results)"
   ]
  },
  {
   "cell_type": "code",
   "execution_count": 120,
   "metadata": {},
   "outputs": [
    {
     "name": "stdout",
     "output_type": "stream",
     "text": [
      "279 µs ± 87 µs per loop (mean ± std. dev. of 7 runs, 5 loops each)\n",
      "238 µs ± 62.7 µs per loop (mean ± std. dev. of 7 runs, 5 loops each)\n",
      "424 µs ± 96.7 µs per loop (mean ± std. dev. of 7 runs, 5 loops each)\n",
      "2.26 ms ± 466 µs per loop (mean ± std. dev. of 7 runs, 5 loops each)\n",
      "16.9 ms ± 1.64 ms per loop (mean ± std. dev. of 7 runs, 5 loops each)\n",
      "164 ms ± 4.81 ms per loop (mean ± std. dev. of 7 runs, 5 loops each)\n",
      "1.82 s ± 176 ms per loop (mean ± std. dev. of 7 runs, 5 loops each)\n"
     ]
    }
   ],
   "source": [
    "%timeit -n 5 numpy(res1)\n",
    "%timeit -n 5 numpy(res10)\n",
    "%timeit -n 5 numpy(res100)\n",
    "%timeit -n 5 numpy(res1k)\n",
    "%timeit -n 5 numpy(res10k)\n",
    "%timeit -n 5 numpy(res100k)\n",
    "%timeit -n 5 numpy(res1m)"
   ]
  },
  {
   "cell_type": "code",
   "execution_count": 303,
   "metadata": {},
   "outputs": [
    {
     "name": "stdout",
     "output_type": "stream",
     "text": [
      "[1 1 1 ... 3 3 3] [13 13 13 ... 30 30 30]\n",
      "peak memory: 1688.59 MiB, increment: 937.68 MiB\n"
     ]
    }
   ],
   "source": [
    "%memit numpy(results)"
   ]
  },
  {
   "cell_type": "code",
   "execution_count": 310,
   "metadata": {},
   "outputs": [
    {
     "name": "stdout",
     "output_type": "stream",
     "text": [
      "[1 1 1 ... 3 3 3] [13 13 13 ... 30 30 30]\n"
     ]
    },
    {
     "data": {
      "text/plain": [
       "Timer unit: 1e-06 s\n",
       "\n",
       "Total time: 21.3734 s\n",
       "File: <ipython-input-164-3aa32a8fe6ab>\n",
       "Function: numpy at line 1\n",
       "\n",
       "Line #      Hits         Time  Per Hit   % Time  Line Contents\n",
       "==============================================================\n",
       "     1                                           def numpy(df):\n",
       "     2         1          3.0      3.0      0.0      one = lambda a: a // 10 ** (int(np.math.log(a,10) - 1 + 1))\n",
       "     3         1          2.0      2.0      0.0      two = lambda a: a // 10 ** (int(np.math.log(a,10) - 2 + 1))\n",
       "     4                                           \n",
       "     5         1         31.0     31.0      0.0      first_digit = np.vectorize(one)\n",
       "     6         1         14.0     14.0      0.0      sec_digit = np.vectorize(two)\n",
       "     7         1   11065210.0 11065210.0     51.8      col3 = first_digit(df.values[:,1])\n",
       "     8         1   10307635.0 10307635.0     48.2      col4 = sec_digit(df.values[:,1])\n",
       "     9         1        503.0    503.0      0.0      print(col3, col4)"
      ]
     },
     "metadata": {},
     "output_type": "display_data"
    }
   ],
   "source": [
    "%lprun -f numpy numpy(results)"
   ]
  },
  {
   "cell_type": "markdown",
   "metadata": {},
   "source": [
    "# Cython"
   ]
  },
  {
   "cell_type": "markdown",
   "metadata": {},
   "source": [
    "Adding type to increase performance\n",
    "https://stackoverflow.com/questions/701322/how-can-you-get-the-first-digit-in-an-int-c"
   ]
  },
  {
   "cell_type": "code",
   "execution_count": 172,
   "metadata": {},
   "outputs": [
    {
     "name": "stdout",
     "output_type": "stream",
     "text": [
      "The Cython extension is already loaded. To reload it, use:\n",
      "  %reload_ext Cython\n"
     ]
    }
   ],
   "source": [
    "%load_ext Cython"
   ]
  },
  {
   "cell_type": "raw",
   "metadata": {},
   "source": [
    "%%cython\n",
    "\n",
    "cimport cython\n",
    "cimport numpy as c_np\n",
    "import numpy as np\n",
    "import math\n",
    "import time\n",
    "\n",
    "def cyth_dig(int Value):\n",
    "    cdef int firstDigit, secDigit\n",
    "    firstDigit = (Value / 10 ** (int(np.math.log(Value,10)-1+1)))\n",
    "    secDigit = (Value //10 ** (int(np.math.log(Value,10)-2+1)))\n",
    "    return firstDigit, secDigit\n",
    " \n",
    "python -m timeit -s \"from summative import cyth_dig; import pandas as pd; import math; results = pd.read_csv(\\\"GitHub.txt\\\");\" results['events_actor_count'].apply(lambda x:cyth_dig(x))\""
   ]
  },
  {
   "cell_type": "raw",
   "metadata": {},
   "source": [
    "Steps to do on the server:\n",
    "\n",
    "> ssh xxxxx@oii-lab-003.oii.ox.ac.uk\n",
    "> export PATH=/opt/anaconda3/bin:$PATH  #so you know where the python is\n",
    "> nano summative.pyx #to open a file\n",
    "** then paste the code above **\n",
    "> cython summative.pyx #now you should see a cython code with extension c\n",
    "** now compile to c code to o code by:\n",
    "> gcc -shared -pthread -fPIC -fwrapv -O2 -Wall -fno-strict-aliasing -lm -I/opt/anaconda3/include/python3.7m/ -I/opt/anaconda3/lib/python3.7/site-packages/numpy/core/include/ -o summative.so summative.c\n",
    "** add the Github.txt file on the server using Filezilla.\n",
    "** now run python in the terminal by:\n",
    "> python -m timeit -s \"from summative import cyth_dig; import pandas as pd; import math; results = pd.read_csv(\\\"GitHub.txt\\\");\" results['events_actor_count'].apply(lambda x:cyth_dig(x))\"\n",
    "\n",
    "### control+D to escape terminal box in python; control+Z to kill ###\n",
    "\n",
    "***Run on ipython to use the timeit feature***\n",
    "\n",
    "**if you need to run code line by line**\n",
    ">python\n",
    ">from summative import cyth_dig\n",
    ">import pandas as pd\n",
    ">import math\n",
    ">results = pd.read_csv(\"GitHub.txt\")\n",
    ">results['events_actor_count'].apply(lambda x:cyth_dig(x))\n"
   ]
  },
  {
   "cell_type": "raw",
   "metadata": {},
   "source": [
    "%%timeit results\n",
    "res1: 927 µs ± 229 µs per loop (mean ± std. dev. of 7 runs, 5 loops each)\n",
    "res10: 2.26 ms ± 862 µs per loop (mean ± std. dev. of 7 runs, 5 loops each)\n",
    "res100:1.62 ms ± 438 µs per loop (mean ± std. dev. of 7 runs, 5 loops each)\n",
    "res1k: 4.33 ms ± 1.23 ms per loop (mean ± std. dev. of 7 runs, 5 loops each)\n",
    "res10k: 28.2 ms ± 863 µs per loop (mean ± std. dev. of 7 runs, 5 loops each)\n",
    "res100k: 282 ms ± 22.7 ms per loop (mean ± std. dev. of 7 runs, 5 loops each)\n",
    "res1m: 2.92 s ± 73.4 ms per loop (mean ± std. dev. of 7 runs, 5 loops each)\n",
    "results: 27.6 s ± 392 ms per loop (mean ± std. dev. of 7 runs, 5 loops each)"
   ]
  },
  {
   "cell_type": "raw",
   "metadata": {},
   "source": [
    "%%memit results\n",
    "peak memory: 1738.96 MiB, increment: 804.52 MiB"
   ]
  },
  {
   "cell_type": "markdown",
   "metadata": {},
   "source": [
    "## Parallelizing Cython"
   ]
  },
  {
   "cell_type": "markdown",
   "metadata": {},
   "source": [
    "**Ran into gil problems - i am aborting mission!**"
   ]
  },
  {
   "cell_type": "markdown",
   "metadata": {},
   "source": [
    "%% cython with parallelization\n",
    "\n",
    "cimport cython\n",
    "cimport numpy as c_np\n",
    "import numpy as np\n",
    "import math\n",
    "import time\n",
    "\n",
    "from cython.parallel import prange\n",
    "\n",
    "@cython.boundscheck(False)\n",
    "@cython.wraparound(False)\n",
    "\n",
    "def cyth_dig_par(np.ndarray[np.int64, ndim=1] results_array):\n",
    "    cdef int firstDigit, secDigit, leng\n",
    "    leng = len(results_array)\n",
    "    for i in prange(leng, nogil=True):\n",
    "        firstDigit[i] = results_array[i] // 10\n",
    "    return firstDigit"
   ]
  },
  {
   "cell_type": "markdown",
   "metadata": {},
   "source": [
    "# Parallel computing using PySpark"
   ]
  },
  {
   "cell_type": "markdown",
   "metadata": {},
   "source": [
    "**Also aborting mission, can't get it to work!**"
   ]
  },
  {
   "cell_type": "markdown",
   "metadata": {},
   "source": [
    "https://www.youtube.com/watch?v=dzYEWULDIAQ&list=PLE50-dh6JzC5zo2whIGqJ02CIhP3ysQLX&index=5"
   ]
  },
  {
   "cell_type": "code",
   "execution_count": 204,
   "metadata": {},
   "outputs": [],
   "source": [
    "import pyspark as spark"
   ]
  },
  {
   "cell_type": "code",
   "execution_count": 240,
   "metadata": {},
   "outputs": [],
   "source": [
    "from pyspark.sql import SparkSession\n",
    "from pyspark import SparkContext, SQLContext\n",
    "\n",
    "spark = SparkSession \\\n",
    "    .builder \\\n",
    "    .appName (\"test\") \\\n",
    "    .config(\"spark.some.config.option\", \"some-value\") \\\n",
    "    .getOrCreate()"
   ]
  },
  {
   "cell_type": "code",
   "execution_count": 206,
   "metadata": {},
   "outputs": [],
   "source": [
    "df = spark.read.csv(\"GitHub.txt\", header=True)"
   ]
  },
  {
   "cell_type": "code",
   "execution_count": 237,
   "metadata": {},
   "outputs": [
    {
     "name": "stdout",
     "output_type": "stream",
     "text": [
      "root\n",
      " |-- actor_login: string (nullable = true)\n",
      " |-- events_actor_count: string (nullable = true)\n",
      "\n"
     ]
    }
   ],
   "source": [
    "df.printSchema()"
   ]
  },
  {
   "cell_type": "code",
   "execution_count": 32,
   "metadata": {},
   "outputs": [
    {
     "data": {
      "text/plain": [
       "[Row(actor_login='neimv', events_actor_count='132'),\n",
       " Row(actor_login='amberlea84', events_actor_count='132'),\n",
       " Row(actor_login='TheAdamBorek', events_actor_count='132'),\n",
       " Row(actor_login='BobbyTowers', events_actor_count='132'),\n",
       " Row(actor_login='HeathStace3004', events_actor_count='132')]"
      ]
     },
     "execution_count": 32,
     "metadata": {},
     "output_type": "execute_result"
    }
   ],
   "source": [
    "df.head(5)"
   ]
  },
  {
   "cell_type": "code",
   "execution_count": 42,
   "metadata": {},
   "outputs": [
    {
     "name": "stdout",
     "output_type": "stream",
     "text": [
      "+---------------+------------------+\n",
      "|    actor_login|events_actor_count|\n",
      "+---------------+------------------+\n",
      "|          neimv|               132|\n",
      "|     amberlea84|               132|\n",
      "|   TheAdamBorek|               132|\n",
      "|    BobbyTowers|               132|\n",
      "| HeathStace3004|               132|\n",
      "|        cloudkj|               132|\n",
      "|      wangmeiqi|               132|\n",
      "|       superVHS|               132|\n",
      "|obiwanmikenolte|               132|\n",
      "|       amdadria|               132|\n",
      "|       Amrsaeed|               132|\n",
      "|    AldanisVigo|               132|\n",
      "|     AtoCrafter|               132|\n",
      "|        POlITIC|               132|\n",
      "|       nitaj96a|               132|\n",
      "|           jpae|               132|\n",
      "|         maater|               132|\n",
      "|       miker123|               132|\n",
      "|   steven-aerts|               132|\n",
      "|        cummack|               132|\n",
      "+---------------+------------------+\n",
      "only showing top 20 rows\n",
      "\n"
     ]
    }
   ],
   "source": [
    "df.show()"
   ]
  },
  {
   "cell_type": "markdown",
   "metadata": {},
   "source": [
    "**Parallelization**\n",
    "\n",
    "https://annefou.github.io/pyspark/03-pyspark_context/ <br>\n",
    "https://blog.cloudera.com/blog/2015/09/how-to-prepare-your-apache-hadoop-cluster-for-pyspark-jobs/"
   ]
  },
  {
   "cell_type": "code",
   "execution_count": 255,
   "metadata": {},
   "outputs": [
    {
     "data": {
      "text/plain": [
       "4"
      ]
     },
     "execution_count": 255,
     "metadata": {},
     "output_type": "execute_result"
    }
   ],
   "source": [
    "#Default number of partitions\n",
    "df.rdd.getNumPartitions()"
   ]
  },
  {
   "cell_type": "code",
   "execution_count": null,
   "metadata": {},
   "outputs": [],
   "source": [
    "# to convert to array\n",
    "vals = np.array(df.select('events_actor_count').collect())"
   ]
  },
  {
   "cell_type": "code",
   "execution_count": null,
   "metadata": {},
   "outputs": [],
   "source": [
    "#parallelization\n",
    "rdd = sc.parallelize(vals)"
   ]
  },
  {
   "cell_type": "code",
   "execution_count": null,
   "metadata": {},
   "outputs": [],
   "source": [
    "#example from book\n",
    "test = rdd.map(lambda x: x[0]**2)\n",
    "\n",
    "#to apply to code: transform via map, action via collect (or take5 if impatient)\n",
    "one = rdd.map(lambda a: a // 10 ** (int(np.math.log(a,10) - 1 + 1))).take(5).foreach(println)\n",
    "two = rdd.map(lambda a: a // 10 ** (int(np.math.log(a,10) - 2 + 1))).collect()"
   ]
  },
  {
   "cell_type": "code",
   "execution_count": null,
   "metadata": {},
   "outputs": [],
   "source": [
    "# sample splitting\n",
    "sample1, sample2, sample3 = np.split(vals,3)\n",
    "#or\n",
    "rdd = sc.parallelize(vals, 4) #four partitions which is default"
   ]
  },
  {
   "cell_type": "markdown",
   "metadata": {},
   "source": [
    "# Multiprocessing"
   ]
  },
  {
   "cell_type": "code",
   "execution_count": 316,
   "metadata": {},
   "outputs": [],
   "source": [
    "from multiprocessing import Pool"
   ]
  },
  {
   "cell_type": "code",
   "execution_count": 324,
   "metadata": {},
   "outputs": [
    {
     "name": "stderr",
     "output_type": "stream",
     "text": [
      "IOPub data rate exceeded.\n",
      "The notebook server will temporarily stop sending output\n",
      "to the client in order to avoid crashing it.\n",
      "To change this limit, set the config variable\n",
      "`--NotebookApp.iopub_data_rate_limit`.\n",
      "\n",
      "Current values:\n",
      "NotebookApp.iopub_data_rate_limit=1000000.0 (bytes/sec)\n",
      "NotebookApp.rate_limit_window=3.0 (secs)\n",
      "\n"
     ]
    }
   ],
   "source": [
    "def job(Value):\n",
    "    return Value // 10 ** (int(np.math.log(Value,10)-1+1))\n",
    "\n",
    "def job2(Value):\n",
    "    return Value // 10 ** (int(np.math.log(Value,10)-2+1))\n",
    "    \n",
    "if __name__ == \"__main__\":\n",
    "    start = time.time()\n",
    "    p = Pool(processes = 20)\n",
    "    FirstDigit = p.map(job, results['events_actor_count'])\n",
    "    SecondDigit = p.map(job2, results['events_actor_count'])\n",
    "    p.close()\n",
    "    firstnum = pd.DataFrame({'firstnum':FirstDigit})\n",
    "    end = time.time()\n",
    "    print(\"Took %f ms\" % ((end-start)*1000))\n",
    "    %memit"
   ]
  },
  {
   "cell_type": "raw",
   "metadata": {},
   "source": [
    "%%timeit results\n",
    "res1: .859816551 s\n",
    "res10: .872070789 s\n",
    "res100: .859011412 s\n",
    "res1k: .906384706 s\n",
    "res10k: .815159559 s\n",
    "res100k: .990002632 s\n",
    "res1m: 2.116918087 s\n",
    "results: 8.062006474 s"
   ]
  },
  {
   "cell_type": "markdown",
   "metadata": {},
   "source": [
    "<img src=\"sc.png\" width=\"500\">"
   ]
  },
  {
   "cell_type": "markdown",
   "metadata": {},
   "source": [
    "# Correlations"
   ]
  },
  {
   "cell_type": "markdown",
   "metadata": {},
   "source": [
    "<img src=\"corr.png\" width=\"500\">"
   ]
  },
  {
   "cell_type": "markdown",
   "metadata": {},
   "source": [
    "# Benchmarking"
   ]
  },
  {
   "cell_type": "code",
   "execution_count": 417,
   "metadata": {},
   "outputs": [],
   "source": [
    "bm_multi = [.859816551, .872070789, .859011412,.906384706,.815159559,.990002632,2.116918087,8.062006474]\n",
    "cyth = [0.000927, 0.00226,0.00162,0.00433,0.0282,0.282,2.92,27.6]\n",
    "numpy = [0.000279, 0.000238, 0.000424,0.00226, 0.0169,0.164,1.8,15.1]\n",
    "pandas = [0.00277, 0.00234, 0.00154,0.003,0.0179,.168,1.63,16.2]"
   ]
  },
  {
   "cell_type": "code",
   "execution_count": 410,
   "metadata": {},
   "outputs": [],
   "source": [
    "x1 = ['1','10','100','1k','10k','100k','1m','All']\n",
    "x = [1,10,100,1000,10000,100000,1000000,10211912]"
   ]
  },
  {
   "cell_type": "code",
   "execution_count": 533,
   "metadata": {},
   "outputs": [
    {
     "data": {
      "text/plain": [
       "Text(0.5,0,'Number of data points')"
      ]
     },
     "execution_count": 533,
     "metadata": {},
     "output_type": "execute_result"
    },
    {
     "data": {
      "image/png": "[encoded data removed]",
      "text/plain": [
       "<matplotlib.figure.Figure at 0x1ad05da20>"
      ]
     },
     "metadata": {},
     "output_type": "display_data"
    }
   ],
   "source": [
    "plt.figure()#figsize=(10,5))\n",
    "plt.plot(x, pandas, 'black', label = 'Pandas')\n",
    "plt.plot(x, numpy, 'g', label = 'Numpy')\n",
    "plt.plot(x, cyth,'b', label = 'Cython')\n",
    "plt.plot(x, bm_multi, 'r', label = 'Multiprocessing')\n",
    "plt.legend(loc='upper left')\n",
    "plt.xscale('log')\n",
    "#plt.yscale('log')\n",
    "plt.ylabel(\"Time in seconds\")\n",
    "plt.xlabel(\"Number of data points\")\n",
    "#plt.ylim(top=100) \n"
   ]
  },
  {
   "cell_type": "code",
   "execution_count": 543,
   "metadata": {},
   "outputs": [
    {
     "data": {
      "text/plain": [
       "Text(0.5,0,'Number of data points')"
      ]
     },
     "execution_count": 543,
     "metadata": {},
     "output_type": "execute_result"
    },
    {
     "data": {
      "image/png": "[encoded data removed]",
      "text/plain": [
       "<matplotlib.figure.Figure at 0x1ab1ff320>"
      ]
     },
     "metadata": {},
     "output_type": "display_data"
    }
   ],
   "source": [
    "# alternative view\n",
    "plt.plot(x, pandas, 'black', label = 'Pandas')\n",
    "plt.plot(x, numpy, 'g', label = 'Numpy')\n",
    "plt.plot(x, cyth,'b', label = 'Cython')\n",
    "plt.plot(x, bm_multi, 'r', label = 'Multiprocessing')\n",
    "plt.legend(loc='upper left')\n",
    "#plt.xscale('log')\n",
    "#plt.yscale('log')\n",
    "plt.ylabel(\"Time in seconds\")\n",
    "plt.xlabel(\"Number of data points\")\n",
    "#plt.ylim(top=100) "
   ]
  },
  {
   "cell_type": "code",
   "execution_count": 536,
   "metadata": {},
   "outputs": [
    {
     "data": {
      "image/png": "[encoded data removed]",
      "text/plain": [
       "<matplotlib.figure.Figure at 0x19dbbad30>"
      ]
     },
     "metadata": {},
     "output_type": "display_data"
    }
   ],
   "source": [
    "#with number formatting\n",
    "fig, ax = plt.subplots()#figsize=(10, 5))\n",
    "ax.plot(x, pandas, 'black', label = 'Pandas')\n",
    "ax.plot(x, numpy, 'g', label = 'Numpy')\n",
    "ax.plot(x, cyth,'b', label = 'Cython')\n",
    "ax.plot(x, bm_multi, 'r', label = 'Multiprocessing')\n",
    "ax.legend(loc='upper left')\n",
    "\n",
    "ax.loglog()\n",
    "ax.set_ylabel(\"Time in seconds\")\n",
    "ax.set_xlabel(\"Number of data points\")\n",
    "\n",
    "import matplotlib.ticker as ticker\n",
    "\n",
    "ax.yaxis.set_major_formatter(ticker.FuncFormatter(lambda y,pos: ('{{:.{:1d}f}}'.format(int(np.maximum(-np.log10(y),0)))).format(y)))\n",
    "ax.xaxis.set_major_formatter(ticker.FuncFormatter(lambda y,pos: ('{{:.{:1d}f}}'.format(int(np.maximum(-np.log10(y),0)))).format(y)))\n",
    "plt.show()"
   ]
  },
  {
   "cell_type": "code",
   "execution_count": 531,
   "metadata": {},
   "outputs": [
    {
     "data": {
      "image/png": "[encoded data removed]",
      "text/plain": [
       "<matplotlib.figure.Figure at 0x1ab2cd860>"
      ]
     },
     "metadata": {},
     "output_type": "display_data"
    }
   ],
   "source": [
    "## Linear above and log below.\n",
    "#https://stackoverflow.com/questions/21746491/combining-a-log-and-linear-scale-in-matplotlib\n",
    "\n",
    "# linear and log axes for the same plot?\n",
    "# starting with the histogram example from \n",
    "# http://matplotlib.org/mpl_toolkits/axes_grid/users/overview.html\n",
    "from mpl_toolkits.axes_grid1 import make_axes_locatable\n",
    "plt.figure(figsize=(10,5))\n",
    "\n",
    "xdomain = x\n",
    "\n",
    "axMain = plt.subplot(111)\n",
    "#axMain.plot(xdomain, np.sin(xdomain))\n",
    "axMain.plot(xdomain, pandas, 'black', label = 'Pandas')\n",
    "axMain.plot(xdomain, numpy, 'g', label = 'Numpy')\n",
    "axMain.plot(xdomain, cyth,'b', label = 'Cython')\n",
    "axMain.plot(xdomain, bm_multi, 'r', label = 'Multiprocessing')\n",
    "\n",
    "axMain.set_yscale('log')\n",
    "axMain.set_ylim((0.0001, 1))\n",
    "axMain.set_ylabel(\"Time in seconds\")\n",
    "axMain.set_xlabel(\"Number of data points\")\n",
    "divider = make_axes_locatable(axMain)\n",
    "\n",
    "axLin = divider.append_axes(\"top\", size=2, pad=0.001, sharex=axMain)\n",
    "\n",
    "axLin.plot(xdomain, pandas, 'black', label = 'Pandas')\n",
    "axLin.plot(xdomain, numpy, 'g', label = 'Numpy')\n",
    "axLin.plot(xdomain, cyth,'b', label = 'Cython')\n",
    "axLin.plot(xdomain, bm_multi, 'r', label = 'Multiprocessing')\n",
    "\n",
    "axLin.set_xscale('log')\n",
    "axLin.set_ylim((1, 30))\n",
    "axLin.legend(loc='upper left')\n",
    "\n",
    "# Removes bottom axis line\n",
    "axLin.spines['bottom'].set_visible(False)\n",
    "#axLin.xaxis.set_ticks_position('top')\n",
    "plt.setp(axLin.get_xticklabels(), visible=False)\n",
    "\n",
    "axMain.yaxis.set_major_formatter(ticker.FuncFormatter(lambda y,pos: ('{{:.{:1d}f}}'.format(int(np.maximum(-np.log10(y),0)))).format(y)))\n",
    "axMain.xaxis.set_major_formatter(ticker.FuncFormatter(lambda y,pos: ('{{:.{:1d}f}}'.format(int(np.maximum(-np.log10(y),0)))).format(y)))\n",
    "\n",
    "\n",
    "#plt.title('Linear above, log below')\n",
    "\n",
    "plt.show()"
   ]
  },
  {
   "cell_type": "markdown",
   "metadata": {},
   "source": [
    "# Visualizations"
   ]
  },
  {
   "cell_type": "code",
   "execution_count": 334,
   "metadata": {},
   "outputs": [],
   "source": [
    "from matplotlib import pyplot as plt"
   ]
  },
  {
   "cell_type": "code",
   "execution_count": 337,
   "metadata": {},
   "outputs": [
    {
     "data": {
      "text/plain": [
       "<matplotlib.axes._subplots.AxesSubplot at 0x17082fa90>"
      ]
     },
     "execution_count": 337,
     "metadata": {},
     "output_type": "execute_result"
    },
    {
     "data": {
      "image/png": "[encoded data removed]",
      "text/plain": [
       "<matplotlib.figure.Figure at 0x17082f400>"
      ]
     },
     "metadata": {},
     "output_type": "display_data"
    }
   ],
   "source": [
    "results.firstnum.plot(kind=\"hist\")"
   ]
  },
  {
   "cell_type": "code",
   "execution_count": 341,
   "metadata": {},
   "outputs": [
    {
     "data": {
      "text/html": [
       "<div>\n",
       "<style scoped>\n",
       "    .dataframe tbody tr th:only-of-type {\n",
       "        vertical-align: middle;\n",
       "    }\n",
       "\n",
       "    .dataframe tbody tr th {\n",
       "        vertical-align: top;\n",
       "    }\n",
       "\n",
       "    .dataframe thead th {\n",
       "        text-align: right;\n",
       "    }\n",
       "</style>\n",
       "<table border=\"1\" class=\"dataframe\">\n",
       "  <thead>\n",
       "    <tr style=\"text-align: right;\">\n",
       "      <th></th>\n",
       "      <th>Github-full sample</th>\n",
       "      <th>Github-small sample</th>\n",
       "      <th>Benford's law</th>\n",
       "    </tr>\n",
       "  </thead>\n",
       "  <tbody>\n",
       "    <tr>\n",
       "      <th>1</th>\n",
       "      <td>0.350865</td>\n",
       "      <td>0.209406</td>\n",
       "      <td>0.3010</td>\n",
       "    </tr>\n",
       "    <tr>\n",
       "      <th>2</th>\n",
       "      <td>0.188211</td>\n",
       "      <td>0.278791</td>\n",
       "      <td>0.1761</td>\n",
       "    </tr>\n",
       "    <tr>\n",
       "      <th>3</th>\n",
       "      <td>0.116198</td>\n",
       "      <td>0.138859</td>\n",
       "      <td>0.1249</td>\n",
       "    </tr>\n",
       "    <tr>\n",
       "      <th>4</th>\n",
       "      <td>0.101226</td>\n",
       "      <td>0.090308</td>\n",
       "      <td>0.0969</td>\n",
       "    </tr>\n",
       "    <tr>\n",
       "      <th>5</th>\n",
       "      <td>0.070326</td>\n",
       "      <td>0.069295</td>\n",
       "      <td>0.0792</td>\n",
       "    </tr>\n",
       "    <tr>\n",
       "      <th>6</th>\n",
       "      <td>0.055659</td>\n",
       "      <td>0.056152</td>\n",
       "      <td>0.0669</td>\n",
       "    </tr>\n",
       "    <tr>\n",
       "      <th>7</th>\n",
       "      <td>0.045374</td>\n",
       "      <td>0.047657</td>\n",
       "      <td>0.0580</td>\n",
       "    </tr>\n",
       "    <tr>\n",
       "      <th>8</th>\n",
       "      <td>0.038800</td>\n",
       "      <td>0.043097</td>\n",
       "      <td>0.0512</td>\n",
       "    </tr>\n",
       "    <tr>\n",
       "      <th>9</th>\n",
       "      <td>0.033341</td>\n",
       "      <td>0.034782</td>\n",
       "      <td>0.0458</td>\n",
       "    </tr>\n",
       "  </tbody>\n",
       "</table>\n",
       "</div>"
      ],
      "text/plain": [
       "   Github-full sample  Github-small sample  Benford's law\n",
       "1            0.350865             0.209406         0.3010\n",
       "2            0.188211             0.278791         0.1761\n",
       "3            0.116198             0.138859         0.1249\n",
       "4            0.101226             0.090308         0.0969\n",
       "5            0.070326             0.069295         0.0792\n",
       "6            0.055659             0.056152         0.0669\n",
       "7            0.045374             0.047657         0.0580\n",
       "8            0.038800             0.043097         0.0512\n",
       "9            0.033341             0.034782         0.0458"
      ]
     },
     "execution_count": 341,
     "metadata": {},
     "output_type": "execute_result"
    }
   ],
   "source": [
    "benford = [0.301, 0.1761, 0.1249, 0.0969, 0.0792, 0.0669, 0.058, 0.0512,0.0458]\n",
    "gh_small = [0.209406, 0.278791, 0.138859, 0.090308, 0.069295, 0.056152,0.047657,0.043097,0.034782]\n",
    "\n",
    "gh_benford = list(results.firstnum.value_counts(normalize=True).sort_index())\n",
    "chart = pd.DataFrame(list(zip(gh_benford,gh_small, benford)), columns = [\"Github-full sample\",\"Github-small sample\", \"Benford's law\"])\n",
    "chart.index = chart.index+1 #for the chart\n",
    "chart"
   ]
  },
  {
   "cell_type": "code",
   "execution_count": 342,
   "metadata": {},
   "outputs": [
    {
     "data": {
      "text/plain": [
       "<matplotlib.legend.Legend at 0x1706f14a8>"
      ]
     },
     "execution_count": 342,
     "metadata": {},
     "output_type": "execute_result"
    },
    {
     "data": {
      "image/png": "[encoded data removed]",
      "text/plain": [
       "<matplotlib.figure.Figure at 0x1706f1048>"
      ]
     },
     "metadata": {},
     "output_type": "display_data"
    }
   ],
   "source": [
    "plt.plot(chart)\n",
    "plt.legend(chart.columns)"
   ]
  },
  {
   "cell_type": "markdown",
   "metadata": {},
   "source": [
    "# Statistics"
   ]
  },
  {
   "cell_type": "code",
   "execution_count": 545,
   "metadata": {},
   "outputs": [],
   "source": [
    "from scipy import stats"
   ]
  },
  {
   "cell_type": "code",
   "execution_count": 546,
   "metadata": {},
   "outputs": [
    {
     "data": {
      "text/plain": [
       "Power_divergenceResult(statistic=0.10689525498600294, pvalue=0.9999996742012074)"
      ]
     },
     "execution_count": 546,
     "metadata": {},
     "output_type": "execute_result"
    }
   ],
   "source": [
    "stats.chisquare(gh_small, gh_benford)"
   ]
  },
  {
   "cell_type": "code",
   "execution_count": 547,
   "metadata": {},
   "outputs": [
    {
     "data": {
      "text/plain": [
       "Power_divergenceResult(statistic=0.024224407913710538, pvalue=0.999999999111875)"
      ]
     },
     "execution_count": 547,
     "metadata": {},
     "output_type": "execute_result"
    }
   ],
   "source": [
    "stats.chisquare(benford, gh_benford)"
   ]
  },
  {
   "cell_type": "code",
   "execution_count": 548,
   "metadata": {},
   "outputs": [
    {
     "data": {
      "text/plain": [
       "Ks_2sampResult(statistic=0.11111111111111116, pvalue=0.9999999450421078)"
      ]
     },
     "execution_count": 548,
     "metadata": {},
     "output_type": "execute_result"
    }
   ],
   "source": [
    "stats.ks_2samp(gh_small, gh_benford)"
   ]
  },
  {
   "cell_type": "code",
   "execution_count": 549,
   "metadata": {},
   "outputs": [
    {
     "data": {
      "text/plain": [
       "Ks_2sampResult(statistic=0.3333333333333333, pvalue=0.6030013612753802)"
      ]
     },
     "execution_count": 549,
     "metadata": {},
     "output_type": "execute_result"
    }
   ],
   "source": [
    "stats.ks_2samp(benford, gh_benford)"
   ]
  },
  {
   "cell_type": "code",
   "execution_count": null,
   "metadata": {},
   "outputs": [],
   "source": []
  },
  {
   "cell_type": "markdown",
   "metadata": {},
   "source": [
    "https://stackoverflow.com/questions/41271299/how-can-i-get-the-first-two-digits-of-a-number"
   ]
  },
  {
   "cell_type": "markdown",
   "metadata": {},
   "source": [
    "https://stackoverflow.com/questions/47404869/calculating-big-o-notation-with-recursion"
   ]
  },
  {
   "cell_type": "markdown",
   "metadata": {},
   "source": [
    "In a nutshell - concurrent: many different operations happening at once. parallel: the same operation broken into small bits happening at once. Distributed Computing is a subset of Parallel Computing; in turn, Parallel Computing is a subset of Concurrent Computing. "
   ]
  },
  {
   "cell_type": "code",
   "execution_count": null,
   "metadata": {},
   "outputs": [],
   "source": []
  }
 ],
 "metadata": {
  "kernelspec": {
   "display_name": "Python 3",
   "language": "python",
   "name": "python3"
  },
  "language_info": {
   "codemirror_mode": {
    "name": "ipython",
    "version": 3
   },
   "file_extension": ".py",
   "mimetype": "text/x-python",
   "name": "python",
   "nbconvert_exporter": "python",
   "pygments_lexer": "ipython3",
   "version": "3.6.4"
  }
 },
 "nbformat": 4,
 "nbformat_minor": 2
}
