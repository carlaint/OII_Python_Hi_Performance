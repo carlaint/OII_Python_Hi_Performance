{
 "cells": [
  {
   "cell_type": "markdown",
   "metadata": {},
   "source": [
    "# Google BigQuery"
   ]
  },
  {
   "cell_type": "code",
   "execution_count": 1,
   "metadata": {},
   "outputs": [],
   "source": [
    "#source: https://www.blendo.co/blog/access-data-google-bigquery-python-r/\n",
    "#https://www.kaggle.com/sohier/how-to-integrate-bigquery-pandas\n",
    "import time\n",
    "from google.cloud import bigquery\n",
    "import pandas as pd\n",
    "import math"
   ]
  },
  {
   "cell_type": "code",
   "execution_count": 4,
   "metadata": {},
   "outputs": [],
   "source": [
    "from google.oauth2 import service_account"
   ]
  },
  {
   "cell_type": "code",
   "execution_count": 7,
   "metadata": {},
   "outputs": [
    {
     "name": "stdout",
     "output_type": "stream",
     "text": [
      "/Users/carla/Desktop/MSc Social Data Science/Data Analytics at Scale\n"
     ]
    }
   ],
   "source": [
    "cd \"/Users/Carla/Desktop/MSc Social Data Science/Data Analytics at Scale\""
   ]
  },
  {
   "cell_type": "code",
   "execution_count": 8,
   "metadata": {},
   "outputs": [],
   "source": [
    "#get credentials here: https://console.cloud.google.com/apis/credentials?project=github-oii-summative&folder&organizationId\n",
    "credentials = service_account.Credentials.from_service_account_file('Github-Oii-Summative-983e8fb0d7b8.json')"
   ]
  },
  {
   "cell_type": "code",
   "execution_count": 23,
   "metadata": {},
   "outputs": [],
   "source": [
    "project_id = 'github-oii-summative'"
   ]
  },
  {
   "cell_type": "code",
   "execution_count": 24,
   "metadata": {},
   "outputs": [],
   "source": [
    "client = bigquery.Client(credentials= credentials,project=project_id)"
   ]
  },
  {
   "cell_type": "raw",
   "metadata": {},
   "source": [
    "##legacy SQL code, I couldn't get it to run in python so I ran the code in my BigQuery account and queried all from there.\n",
    "\n",
    "query_job = client.query(\"\"\"\n",
    "\n",
    "SELECT \n",
    "  actor.login AS actor_login,\n",
    "  COUNT(1) AS events_actor_count\n",
    "FROM\n",
    "`githubarchive:year.2017` as gb17, \n",
    "`githubarchive:year.2016` as gb16, \n",
    "`githubarchive:year.2015` as gb15, \n",
    "`githubarchive:year.2014` as gb14, \n",
    "`githubarchive:year.2013` as gb13,\n",
    "`githubarchive:year.2012` as gb12,\n",
    "`githubarchive:year.2011` as gb11 \n",
    "\n",
    "WHERE\n",
    "  type = 'CommitCommentEvent'\n",
    "    OR type = 'PushEvent'\n",
    "    OR type = 'IssueCommentEvent'\n",
    "    OR type = 'PullRequestEvent'\n",
    "    OR type = 'PullRequestReviewCommentEvent'\n",
    "    OR type = 'IssuesEvent'\n",
    "GROUP BY\n",
    "  actor_login\n",
    "ORDER BY\n",
    "  events_actor_count DESC\n",
    "  \n",
    "  \"\"\")\n",
    "\n",
    "results = query_job.result()"
   ]
  },
  {
   "cell_type": "code",
   "execution_count": 53,
   "metadata": {},
   "outputs": [
    {
     "name": "stdout",
     "output_type": "stream",
     "text": [
      "475.0274031162262\n"
     ]
    }
   ],
   "source": [
    "# query_job = client.query(\"\"\"\n",
    "\n",
    "# SELECT *\n",
    "# FROM\n",
    "# `github-oii-summative.Github_Contributors.results_20181202_014906` as gh \n",
    "\n",
    "# \"\"\")\n",
    "\n",
    "start = time.time()\n",
    "results = query_job.to_dataframe()\n",
    "done = time.time()\n",
    "elapsed = done - start\n",
    "print(elapsed)"
   ]
  },
  {
   "cell_type": "code",
   "execution_count": 59,
   "metadata": {},
   "outputs": [],
   "source": [
    "#bigquery = pd.DataFrame(list(results))\n",
    "#475 seconds = 8 minutes"
   ]
  },
  {
   "cell_type": "code",
   "execution_count": 133,
   "metadata": {},
   "outputs": [
    {
     "data": {
      "text/plain": [
       "(10211912, 4)"
      ]
     },
     "execution_count": 133,
     "metadata": {},
     "output_type": "execute_result"
    }
   ],
   "source": [
    "#results = results.drop(\"firstnum\", axis=1)\n",
    "results.shape"
   ]
  },
  {
   "cell_type": "code",
   "execution_count": 138,
   "metadata": {},
   "outputs": [
    {
     "data": {
      "text/html": [
       "<div>\n",
       "<style scoped>\n",
       "    .dataframe tbody tr th:only-of-type {\n",
       "        vertical-align: middle;\n",
       "    }\n",
       "\n",
       "    .dataframe tbody tr th {\n",
       "        vertical-align: top;\n",
       "    }\n",
       "\n",
       "    .dataframe thead th {\n",
       "        text-align: right;\n",
       "    }\n",
       "</style>\n",
       "<table border=\"1\" class=\"dataframe\">\n",
       "  <thead>\n",
       "    <tr style=\"text-align: right;\">\n",
       "      <th></th>\n",
       "      <th>actor_login</th>\n",
       "      <th>events_actor_count</th>\n",
       "      <th>firstnum</th>\n",
       "      <th>secondnum</th>\n",
       "    </tr>\n",
       "  </thead>\n",
       "  <tbody>\n",
       "    <tr>\n",
       "      <th>4127894</th>\n",
       "      <td>LombiqBot</td>\n",
       "      <td>19043010</td>\n",
       "      <td>1</td>\n",
       "      <td>19</td>\n",
       "    </tr>\n",
       "    <tr>\n",
       "      <th>6169363</th>\n",
       "      <td>OpenLocalizationTest</td>\n",
       "      <td>4004083</td>\n",
       "      <td>4</td>\n",
       "      <td>40</td>\n",
       "    </tr>\n",
       "    <tr>\n",
       "      <th>8211679</th>\n",
       "      <td>grid-bot</td>\n",
       "      <td>2096788</td>\n",
       "      <td>2</td>\n",
       "      <td>20</td>\n",
       "    </tr>\n",
       "    <tr>\n",
       "      <th>1063339</th>\n",
       "      <td>ssbattousai</td>\n",
       "      <td>2039017</td>\n",
       "      <td>2</td>\n",
       "      <td>20</td>\n",
       "    </tr>\n",
       "    <tr>\n",
       "      <th>5148234</th>\n",
       "      <td>tmtmtmtm</td>\n",
       "      <td>1578035</td>\n",
       "      <td>1</td>\n",
       "      <td>15</td>\n",
       "    </tr>\n",
       "    <tr>\n",
       "      <th>9232944</th>\n",
       "      <td>KenanSulayman</td>\n",
       "      <td>1573479</td>\n",
       "      <td>1</td>\n",
       "      <td>15</td>\n",
       "    </tr>\n",
       "    <tr>\n",
       "      <th>1063340</th>\n",
       "      <td>everypoliticianbot</td>\n",
       "      <td>1429215</td>\n",
       "      <td>1</td>\n",
       "      <td>14</td>\n",
       "    </tr>\n",
       "    <tr>\n",
       "      <th>41317</th>\n",
       "      <td>direwolf-github</td>\n",
       "      <td>1240492</td>\n",
       "      <td>1</td>\n",
       "      <td>12</td>\n",
       "    </tr>\n",
       "    <tr>\n",
       "      <th>4127895</th>\n",
       "      <td>coveralls</td>\n",
       "      <td>1112175</td>\n",
       "      <td>1</td>\n",
       "      <td>11</td>\n",
       "    </tr>\n",
       "    <tr>\n",
       "      <th>9232945</th>\n",
       "      <td>CodePipeline-Test</td>\n",
       "      <td>1051884</td>\n",
       "      <td>1</td>\n",
       "      <td>10</td>\n",
       "    </tr>\n",
       "    <tr>\n",
       "      <th>4127896</th>\n",
       "      <td>mirror-updates</td>\n",
       "      <td>953397</td>\n",
       "      <td>9</td>\n",
       "      <td>95</td>\n",
       "    </tr>\n",
       "    <tr>\n",
       "      <th>8211680</th>\n",
       "      <td>gugod</td>\n",
       "      <td>738787</td>\n",
       "      <td>7</td>\n",
       "      <td>73</td>\n",
       "    </tr>\n",
       "    <tr>\n",
       "      <th>6169364</th>\n",
       "      <td>asfgit</td>\n",
       "      <td>720292</td>\n",
       "      <td>7</td>\n",
       "      <td>72</td>\n",
       "    </tr>\n",
       "    <tr>\n",
       "      <th>5148235</th>\n",
       "      <td>openstack-gerrit</td>\n",
       "      <td>658274</td>\n",
       "      <td>6</td>\n",
       "      <td>65</td>\n",
       "    </tr>\n",
       "    <tr>\n",
       "      <th>1063341</th>\n",
       "      <td>scriptzteam</td>\n",
       "      <td>632495</td>\n",
       "      <td>6</td>\n",
       "      <td>63</td>\n",
       "    </tr>\n",
       "    <tr>\n",
       "      <th>41318</th>\n",
       "      <td>abodiab</td>\n",
       "      <td>621681</td>\n",
       "      <td>6</td>\n",
       "      <td>62</td>\n",
       "    </tr>\n",
       "    <tr>\n",
       "      <th>4127897</th>\n",
       "      <td>hqtogit</td>\n",
       "      <td>607586</td>\n",
       "      <td>6</td>\n",
       "      <td>60</td>\n",
       "    </tr>\n",
       "    <tr>\n",
       "      <th>41319</th>\n",
       "      <td>houndci-bot</td>\n",
       "      <td>566607</td>\n",
       "      <td>5</td>\n",
       "      <td>56</td>\n",
       "    </tr>\n",
       "    <tr>\n",
       "      <th>4127898</th>\n",
       "      <td>shenzhouzd</td>\n",
       "      <td>561660</td>\n",
       "      <td>5</td>\n",
       "      <td>56</td>\n",
       "    </tr>\n",
       "    <tr>\n",
       "      <th>1063342</th>\n",
       "      <td>chapuni</td>\n",
       "      <td>557120</td>\n",
       "      <td>5</td>\n",
       "      <td>55</td>\n",
       "    </tr>\n",
       "  </tbody>\n",
       "</table>\n",
       "</div>"
      ],
      "text/plain": [
       "                  actor_login  events_actor_count  firstnum  secondnum\n",
       "4127894             LombiqBot            19043010         1         19\n",
       "6169363  OpenLocalizationTest             4004083         4         40\n",
       "8211679              grid-bot             2096788         2         20\n",
       "1063339           ssbattousai             2039017         2         20\n",
       "5148234              tmtmtmtm             1578035         1         15\n",
       "9232944         KenanSulayman             1573479         1         15\n",
       "1063340    everypoliticianbot             1429215         1         14\n",
       "41317         direwolf-github             1240492         1         12\n",
       "4127895             coveralls             1112175         1         11\n",
       "9232945     CodePipeline-Test             1051884         1         10\n",
       "4127896        mirror-updates              953397         9         95\n",
       "8211680                 gugod              738787         7         73\n",
       "6169364                asfgit              720292         7         72\n",
       "5148235      openstack-gerrit              658274         6         65\n",
       "1063341           scriptzteam              632495         6         63\n",
       "41318                 abodiab              621681         6         62\n",
       "4127897               hqtogit              607586         6         60\n",
       "41319             houndci-bot              566607         5         56\n",
       "4127898            shenzhouzd              561660         5         56\n",
       "1063342               chapuni              557120         5         55"
      ]
     },
     "execution_count": 138,
     "metadata": {},
     "output_type": "execute_result"
    }
   ],
   "source": [
    "results.sort_values(by='events_actor_count', ascending=False).head(20)"
   ]
  },
  {
   "cell_type": "code",
   "execution_count": 56,
   "metadata": {},
   "outputs": [],
   "source": [
    "#results.to_csv(r'GitHub.txt', index=None, sep=',', mode='a')"
   ]
  },
  {
   "cell_type": "markdown",
   "metadata": {},
   "source": [
    "# Make it run"
   ]
  },
  {
   "cell_type": "markdown",
   "metadata": {},
   "source": [
    "Trying out a subset from the df"
   ]
  },
  {
   "cell_type": "code",
   "execution_count": 2,
   "metadata": {},
   "outputs": [],
   "source": [
    "results = pd.read_csv(\"Github.txt\")"
   ]
  },
  {
   "cell_type": "code",
   "execution_count": 5,
   "metadata": {},
   "outputs": [
    {
     "data": {
      "text/html": [
       "<div>\n",
       "<style scoped>\n",
       "    .dataframe tbody tr th:only-of-type {\n",
       "        vertical-align: middle;\n",
       "    }\n",
       "\n",
       "    .dataframe tbody tr th {\n",
       "        vertical-align: top;\n",
       "    }\n",
       "\n",
       "    .dataframe thead th {\n",
       "        text-align: right;\n",
       "    }\n",
       "</style>\n",
       "<table border=\"1\" class=\"dataframe\">\n",
       "  <thead>\n",
       "    <tr style=\"text-align: right;\">\n",
       "      <th></th>\n",
       "      <th>actor_login</th>\n",
       "      <th>events_actor_count</th>\n",
       "    </tr>\n",
       "  </thead>\n",
       "  <tbody>\n",
       "    <tr>\n",
       "      <th>4127894</th>\n",
       "      <td>LombiqBot</td>\n",
       "      <td>19043010</td>\n",
       "    </tr>\n",
       "    <tr>\n",
       "      <th>6169363</th>\n",
       "      <td>OpenLocalizationTest</td>\n",
       "      <td>4004083</td>\n",
       "    </tr>\n",
       "    <tr>\n",
       "      <th>8211679</th>\n",
       "      <td>grid-bot</td>\n",
       "      <td>2096788</td>\n",
       "    </tr>\n",
       "    <tr>\n",
       "      <th>1063339</th>\n",
       "      <td>ssbattousai</td>\n",
       "      <td>2039017</td>\n",
       "    </tr>\n",
       "    <tr>\n",
       "      <th>5148234</th>\n",
       "      <td>tmtmtmtm</td>\n",
       "      <td>1578035</td>\n",
       "    </tr>\n",
       "    <tr>\n",
       "      <th>9232944</th>\n",
       "      <td>KenanSulayman</td>\n",
       "      <td>1573479</td>\n",
       "    </tr>\n",
       "    <tr>\n",
       "      <th>1063340</th>\n",
       "      <td>everypoliticianbot</td>\n",
       "      <td>1429215</td>\n",
       "    </tr>\n",
       "    <tr>\n",
       "      <th>41317</th>\n",
       "      <td>direwolf-github</td>\n",
       "      <td>1240492</td>\n",
       "    </tr>\n",
       "    <tr>\n",
       "      <th>4127895</th>\n",
       "      <td>coveralls</td>\n",
       "      <td>1112175</td>\n",
       "    </tr>\n",
       "    <tr>\n",
       "      <th>9232945</th>\n",
       "      <td>CodePipeline-Test</td>\n",
       "      <td>1051884</td>\n",
       "    </tr>\n",
       "    <tr>\n",
       "      <th>4127896</th>\n",
       "      <td>mirror-updates</td>\n",
       "      <td>953397</td>\n",
       "    </tr>\n",
       "    <tr>\n",
       "      <th>8211680</th>\n",
       "      <td>gugod</td>\n",
       "      <td>738787</td>\n",
       "    </tr>\n",
       "    <tr>\n",
       "      <th>6169364</th>\n",
       "      <td>asfgit</td>\n",
       "      <td>720292</td>\n",
       "    </tr>\n",
       "    <tr>\n",
       "      <th>5148235</th>\n",
       "      <td>openstack-gerrit</td>\n",
       "      <td>658274</td>\n",
       "    </tr>\n",
       "    <tr>\n",
       "      <th>1063341</th>\n",
       "      <td>scriptzteam</td>\n",
       "      <td>632495</td>\n",
       "    </tr>\n",
       "    <tr>\n",
       "      <th>41318</th>\n",
       "      <td>abodiab</td>\n",
       "      <td>621681</td>\n",
       "    </tr>\n",
       "    <tr>\n",
       "      <th>4127897</th>\n",
       "      <td>hqtogit</td>\n",
       "      <td>607586</td>\n",
       "    </tr>\n",
       "    <tr>\n",
       "      <th>41319</th>\n",
       "      <td>houndci-bot</td>\n",
       "      <td>566607</td>\n",
       "    </tr>\n",
       "    <tr>\n",
       "      <th>4127898</th>\n",
       "      <td>shenzhouzd</td>\n",
       "      <td>561660</td>\n",
       "    </tr>\n",
       "    <tr>\n",
       "      <th>1063342</th>\n",
       "      <td>chapuni</td>\n",
       "      <td>557120</td>\n",
       "    </tr>\n",
       "  </tbody>\n",
       "</table>\n",
       "</div>"
      ],
      "text/plain": [
       "                  actor_login  events_actor_count\n",
       "4127894             LombiqBot            19043010\n",
       "6169363  OpenLocalizationTest             4004083\n",
       "8211679              grid-bot             2096788\n",
       "1063339           ssbattousai             2039017\n",
       "5148234              tmtmtmtm             1578035\n",
       "9232944         KenanSulayman             1573479\n",
       "1063340    everypoliticianbot             1429215\n",
       "41317         direwolf-github             1240492\n",
       "4127895             coveralls             1112175\n",
       "9232945     CodePipeline-Test             1051884\n",
       "4127896        mirror-updates              953397\n",
       "8211680                 gugod              738787\n",
       "6169364                asfgit              720292\n",
       "5148235      openstack-gerrit              658274\n",
       "1063341           scriptzteam              632495\n",
       "41318                 abodiab              621681\n",
       "4127897               hqtogit              607586\n",
       "41319             houndci-bot              566607\n",
       "4127898            shenzhouzd              561660\n",
       "1063342               chapuni              557120"
      ]
     },
     "execution_count": 5,
     "metadata": {},
     "output_type": "execute_result"
    }
   ],
   "source": [
    "results.sort_values(by='events_actor_count', ascending=False).head(20)"
   ]
  },
  {
   "cell_type": "code",
   "execution_count": 6,
   "metadata": {},
   "outputs": [],
   "source": [
    "sub_results = results[0:1000000]"
   ]
  },
  {
   "cell_type": "code",
   "execution_count": 7,
   "metadata": {},
   "outputs": [
    {
     "data": {
      "text/plain": [
       "dtype('int64')"
      ]
     },
     "execution_count": 7,
     "metadata": {},
     "output_type": "execute_result"
    }
   ],
   "source": [
    "#printing series types via numpy\n",
    "sub_results[\"events_actor_count\"].dtypes"
   ]
  },
  {
   "cell_type": "markdown",
   "metadata": {},
   "source": [
    "## Pandas\n",
    "Convert your number to string and use list slicing "
   ]
  },
  {
   "cell_type": "code",
   "execution_count": 114,
   "metadata": {},
   "outputs": [],
   "source": [
    "def list_slice(df):\n",
    "    df[\"events_actor_count\"] = df[\"events_actor_count\"].astype(str)\n",
    "    df[\"firstnum\"] = df[\"events_actor_count\"].str[0].apply(int)\n",
    "    df[\"secondnum\"] = df[\"events_actor_count\"].str[0:2].apply(int)"
   ]
  },
  {
   "cell_type": "markdown",
   "metadata": {},
   "source": [
    "## Math"
   ]
  },
  {
   "cell_type": "markdown",
   "metadata": {},
   "source": [
    "List slicing has at least O(n) time complexity and the string conversion has O(n) space complexity.  Performance can be seen by the timeit function.  Here is a code for constant time and space complexity."
   ]
  },
  {
   "cell_type": "code",
   "execution_count": 164,
   "metadata": {},
   "outputs": [],
   "source": [
    "def math_o(df):\n",
    "    df[\"firstnum_bigo\"] = df[\"events_actor_count\"].map(lambda x: x // 10 ** (int(math.log(x, 10)) - 1 + 1))\n",
    "    df[\"secondnum_bigo\"] = df[\"events_actor_count\"].map(lambda x: x // 10 ** (int(math.log(x, 10)) - 2 + 1))"
   ]
  },
  {
   "cell_type": "code",
   "execution_count": 161,
   "metadata": {},
   "outputs": [],
   "source": [
    "#bring it back to integer, since you converted to string above\n",
    "results[\"events_actor_count\"] = results[\"events_actor_count\"].astype(int)"
   ]
  },
  {
   "cell_type": "code",
   "execution_count": 149,
   "metadata": {},
   "outputs": [
    {
     "name": "stderr",
     "output_type": "stream",
     "text": [
      "/anaconda3/lib/python3.6/site-packages/ipykernel_launcher.py:2: SettingWithCopyWarning: \n",
      "A value is trying to be set on a copy of a slice from a DataFrame.\n",
      "Try using .loc[row_indexer,col_indexer] = value instead\n",
      "\n",
      "See the caveats in the documentation: http://pandas.pydata.org/pandas-docs/stable/indexing.html#indexing-view-versus-copy\n",
      "  \n",
      "/anaconda3/lib/python3.6/site-packages/ipykernel_launcher.py:3: SettingWithCopyWarning: \n",
      "A value is trying to be set on a copy of a slice from a DataFrame.\n",
      "Try using .loc[row_indexer,col_indexer] = value instead\n",
      "\n",
      "See the caveats in the documentation: http://pandas.pydata.org/pandas-docs/stable/indexing.html#indexing-view-versus-copy\n",
      "  This is separate from the ipykernel package so we can avoid doing imports until\n"
     ]
    }
   ],
   "source": [
    "math_o(sub_results)"
   ]
  },
  {
   "cell_type": "code",
   "execution_count": 201,
   "metadata": {},
   "outputs": [
    {
     "data": {
      "text/html": [
       "<div>\n",
       "<style scoped>\n",
       "    .dataframe tbody tr th:only-of-type {\n",
       "        vertical-align: middle;\n",
       "    }\n",
       "\n",
       "    .dataframe tbody tr th {\n",
       "        vertical-align: top;\n",
       "    }\n",
       "\n",
       "    .dataframe thead th {\n",
       "        text-align: right;\n",
       "    }\n",
       "</style>\n",
       "<table border=\"1\" class=\"dataframe\">\n",
       "  <thead>\n",
       "    <tr style=\"text-align: right;\">\n",
       "      <th></th>\n",
       "      <th>actor_login</th>\n",
       "      <th>events_actor_count</th>\n",
       "      <th>firstnum</th>\n",
       "      <th>secondnum</th>\n",
       "      <th>firstnum_bigo</th>\n",
       "      <th>secondnum_bigo</th>\n",
       "    </tr>\n",
       "  </thead>\n",
       "  <tbody>\n",
       "    <tr>\n",
       "      <th>0</th>\n",
       "      <td>neimv</td>\n",
       "      <td>132</td>\n",
       "      <td>1</td>\n",
       "      <td>13</td>\n",
       "      <td>1</td>\n",
       "      <td>13.0</td>\n",
       "    </tr>\n",
       "    <tr>\n",
       "      <th>1</th>\n",
       "      <td>amberlea84</td>\n",
       "      <td>132</td>\n",
       "      <td>1</td>\n",
       "      <td>13</td>\n",
       "      <td>1</td>\n",
       "      <td>13.0</td>\n",
       "    </tr>\n",
       "    <tr>\n",
       "      <th>2</th>\n",
       "      <td>TheAdamBorek</td>\n",
       "      <td>132</td>\n",
       "      <td>1</td>\n",
       "      <td>13</td>\n",
       "      <td>1</td>\n",
       "      <td>13.0</td>\n",
       "    </tr>\n",
       "    <tr>\n",
       "      <th>3</th>\n",
       "      <td>BobbyTowers</td>\n",
       "      <td>132</td>\n",
       "      <td>1</td>\n",
       "      <td>13</td>\n",
       "      <td>1</td>\n",
       "      <td>13.0</td>\n",
       "    </tr>\n",
       "    <tr>\n",
       "      <th>4</th>\n",
       "      <td>HeathStace3004</td>\n",
       "      <td>132</td>\n",
       "      <td>1</td>\n",
       "      <td>13</td>\n",
       "      <td>1</td>\n",
       "      <td>13.0</td>\n",
       "    </tr>\n",
       "  </tbody>\n",
       "</table>\n",
       "</div>"
      ],
      "text/plain": [
       "      actor_login events_actor_count  firstnum  secondnum  firstnum_bigo  \\\n",
       "0           neimv                132         1         13              1   \n",
       "1      amberlea84                132         1         13              1   \n",
       "2    TheAdamBorek                132         1         13              1   \n",
       "3     BobbyTowers                132         1         13              1   \n",
       "4  HeathStace3004                132         1         13              1   \n",
       "\n",
       "   secondnum_bigo  \n",
       "0            13.0  \n",
       "1            13.0  \n",
       "2            13.0  \n",
       "3            13.0  \n",
       "4            13.0  "
      ]
     },
     "execution_count": 201,
     "metadata": {},
     "output_type": "execute_result"
    }
   ],
   "source": [
    "sub_results.head()"
   ]
  },
  {
   "cell_type": "markdown",
   "metadata": {},
   "source": [
    "## Cython"
   ]
  },
  {
   "cell_type": "markdown",
   "metadata": {},
   "source": [
    "Adding type to increase performance\n",
    "https://stackoverflow.com/questions/701322/how-can-you-get-the-first-digit-in-an-int-c"
   ]
  },
  {
   "cell_type": "code",
   "execution_count": 172,
   "metadata": {},
   "outputs": [
    {
     "name": "stdout",
     "output_type": "stream",
     "text": [
      "The Cython extension is already loaded. To reload it, use:\n",
      "  %reload_ext Cython\n"
     ]
    }
   ],
   "source": [
    "%load_ext Cython"
   ]
  },
  {
   "cell_type": "raw",
   "metadata": {},
   "source": [
    "%%cython\n",
    "import Math \n",
    "\n",
    "def cyth_dig(int Value):\n",
    "    cdef int firstDigit, secDigit\n",
    "    firstDigit = (Value / Math.Pow(10, Math.Floor(Math.Log10(Value))))\n",
    "    secDigit = (Value / Math.Pow(10, Math.Floor(Math.Log10(Value)) - 2 + 1))\n",
    "    return firstDigit, secDigit\n",
    "        \n",
    "# Guidance from math module in python.\n",
    "#     df[\"firstnum_bigo\"] = df[\"events_actor_count\"].map(lambda x: x // 10 ** (int(math.log(x, 10)) - 1 + 1))\n",
    "#     df[\"secondnum_bigo\"] = df[\"events_actor_count\"].map(lambda x: x // 10 ** (int(math.log(x, 10)) - 2 + 1))"
   ]
  },
  {
   "cell_type": "raw",
   "metadata": {},
   "source": [
    "Steps to do on the server:\n",
    "\n",
    "> ssh kebl5865@oii-lab-003.oii.ox.ac.uk\n",
    "> nano summative.pyx #to open a file\n",
    "** then paste the code above **\n",
    "> export PATH=/opt/anaconda3/bin:$PATH #so you know where the python is\n",
    "> cython summative.pyx #now you should see a cython code with extension c\n",
    "** now compile to c code to o code by:\n",
    "> gcc -shared -pthread -fPIC -fwrapv -O2 -Wall -fno-strict-aliasing -lm -I/opt/anaconda3/include/python3.7m/ -I/opt/anaconda3/lib/python3.7/site-packages/numpy/core/include/ -o summative.so summative.c\n",
    "** add the Github.txt file on the server using Filezilla.\n",
    "** now run python in the terminal by:\n",
    "> python -m timeit -s \"from summative import cyth_dig; import pandas as pd; import math; results = pd.read_csv(\\\"GitHub.txt\\\")\" \"results.apply(lambda x:cyth_dig(x['events_actor_count'],axis=1))\"\n",
    "\n",
    "### control+D to escape terminal box in python\n"
   ]
  },
  {
   "cell_type": "code",
   "execution_count": 197,
   "metadata": {},
   "outputs": [],
   "source": [
    "%timeit sub_results.apply(lambda x: cyth_dig(x['events_actor_count'], axis=1))"
   ]
  },
  {
   "cell_type": "markdown",
   "metadata": {},
   "source": [
    "## Distributed computing"
   ]
  },
  {
   "cell_type": "markdown",
   "metadata": {},
   "source": [
    "https://www.youtube.com/watch?v=dzYEWULDIAQ&list=PLE50-dh6JzC5zo2whIGqJ02CIhP3ysQLX&index=5"
   ]
  },
  {
   "cell_type": "code",
   "execution_count": 15,
   "metadata": {},
   "outputs": [],
   "source": [
    "import pyspark as spark"
   ]
  },
  {
   "cell_type": "code",
   "execution_count": 22,
   "metadata": {},
   "outputs": [],
   "source": [
    "from pyspark.sql import SparkSession\n",
    "from pyspark import SparkContext, SQLContext\n",
    "\n",
    "spark = SparkSession \\\n",
    "    .builder \\\n",
    "    .appName (\"test\") \\\n",
    "    .config(\"spark.some.config.option\", \"some-value\") \\\n",
    "    .getOrCreate()"
   ]
  },
  {
   "cell_type": "code",
   "execution_count": 30,
   "metadata": {},
   "outputs": [],
   "source": [
    "df = spark.read.csv(\"Github.txt\", header=True)"
   ]
  },
  {
   "cell_type": "code",
   "execution_count": 31,
   "metadata": {},
   "outputs": [
    {
     "name": "stdout",
     "output_type": "stream",
     "text": [
      "root\n",
      " |-- actor_login: string (nullable = true)\n",
      " |-- events_actor_count: string (nullable = true)\n",
      "\n"
     ]
    }
   ],
   "source": [
    "df.printSchema()"
   ]
  },
  {
   "cell_type": "code",
   "execution_count": 32,
   "metadata": {},
   "outputs": [
    {
     "data": {
      "text/plain": [
       "[Row(actor_login='neimv', events_actor_count='132'),\n",
       " Row(actor_login='amberlea84', events_actor_count='132'),\n",
       " Row(actor_login='TheAdamBorek', events_actor_count='132'),\n",
       " Row(actor_login='BobbyTowers', events_actor_count='132'),\n",
       " Row(actor_login='HeathStace3004', events_actor_count='132')]"
      ]
     },
     "execution_count": 32,
     "metadata": {},
     "output_type": "execute_result"
    }
   ],
   "source": [
    "df.head(5)"
   ]
  },
  {
   "cell_type": "code",
   "execution_count": 42,
   "metadata": {},
   "outputs": [
    {
     "name": "stdout",
     "output_type": "stream",
     "text": [
      "+---------------+------------------+\n",
      "|    actor_login|events_actor_count|\n",
      "+---------------+------------------+\n",
      "|          neimv|               132|\n",
      "|     amberlea84|               132|\n",
      "|   TheAdamBorek|               132|\n",
      "|    BobbyTowers|               132|\n",
      "| HeathStace3004|               132|\n",
      "|        cloudkj|               132|\n",
      "|      wangmeiqi|               132|\n",
      "|       superVHS|               132|\n",
      "|obiwanmikenolte|               132|\n",
      "|       amdadria|               132|\n",
      "|       Amrsaeed|               132|\n",
      "|    AldanisVigo|               132|\n",
      "|     AtoCrafter|               132|\n",
      "|        POlITIC|               132|\n",
      "|       nitaj96a|               132|\n",
      "|           jpae|               132|\n",
      "|         maater|               132|\n",
      "|       miker123|               132|\n",
      "|   steven-aerts|               132|\n",
      "|        cummack|               132|\n",
      "+---------------+------------------+\n",
      "only showing top 20 rows\n",
      "\n"
     ]
    }
   ],
   "source": [
    "df.show()"
   ]
  },
  {
   "cell_type": "markdown",
   "metadata": {},
   "source": [
    "**Parallelization**\n",
    "\n",
    "https://annefou.github.io/pyspark/03-pyspark_context/ <br>\n",
    "https://blog.cloudera.com/blog/2015/09/how-to-prepare-your-apache-hadoop-cluster-for-pyspark-jobs/"
   ]
  },
  {
   "cell_type": "code",
   "execution_count": null,
   "metadata": {},
   "outputs": [],
   "source": []
  },
  {
   "cell_type": "code",
   "execution_count": null,
   "metadata": {},
   "outputs": [],
   "source": []
  },
  {
   "cell_type": "code",
   "execution_count": null,
   "metadata": {},
   "outputs": [],
   "source": []
  },
  {
   "cell_type": "code",
   "execution_count": null,
   "metadata": {},
   "outputs": [],
   "source": []
  },
  {
   "cell_type": "code",
   "execution_count": null,
   "metadata": {},
   "outputs": [],
   "source": []
  },
  {
   "cell_type": "markdown",
   "metadata": {},
   "source": [
    "# Make it right"
   ]
  },
  {
   "cell_type": "markdown",
   "metadata": {},
   "source": [
    "Making sure that all approaches above yield the same result."
   ]
  },
  {
   "cell_type": "code",
   "execution_count": null,
   "metadata": {},
   "outputs": [],
   "source": []
  },
  {
   "cell_type": "code",
   "execution_count": null,
   "metadata": {},
   "outputs": [],
   "source": []
  },
  {
   "cell_type": "markdown",
   "metadata": {},
   "source": [
    "# Make it fast"
   ]
  },
  {
   "cell_type": "markdown",
   "metadata": {},
   "source": [
    "https://stackoverflow.com/questions/41271299/how-can-i-get-the-first-two-digits-of-a-number"
   ]
  },
  {
   "cell_type": "markdown",
   "metadata": {},
   "source": [
    "## Benchmarking and profiling"
   ]
  },
  {
   "cell_type": "code",
   "execution_count": 170,
   "metadata": {},
   "outputs": [],
   "source": [
    "%load_ext memory_profiler\n",
    "%load_ext line_profiler"
   ]
  },
  {
   "cell_type": "markdown",
   "metadata": {},
   "source": [
    "### Pandas"
   ]
  },
  {
   "cell_type": "code",
   "execution_count": 115,
   "metadata": {},
   "outputs": [
    {
     "name": "stdout",
     "output_type": "stream",
     "text": [
      "16.9 s ± 718 ms per loop (mean ± std. dev. of 7 runs, 5 loops each)\n"
     ]
    }
   ],
   "source": [
    "%timeit -n 5 list_slice(results)"
   ]
  },
  {
   "cell_type": "code",
   "execution_count": 158,
   "metadata": {},
   "outputs": [
    {
     "name": "stderr",
     "output_type": "stream",
     "text": [
      "/anaconda3/lib/python3.6/site-packages/ipykernel_launcher.py:2: SettingWithCopyWarning: \n",
      "A value is trying to be set on a copy of a slice from a DataFrame.\n",
      "Try using .loc[row_indexer,col_indexer] = value instead\n",
      "\n",
      "See the caveats in the documentation: http://pandas.pydata.org/pandas-docs/stable/indexing.html#indexing-view-versus-copy\n",
      "  \n",
      "/anaconda3/lib/python3.6/site-packages/ipykernel_launcher.py:3: SettingWithCopyWarning: \n",
      "A value is trying to be set on a copy of a slice from a DataFrame.\n",
      "Try using .loc[row_indexer,col_indexer] = value instead\n",
      "\n",
      "See the caveats in the documentation: http://pandas.pydata.org/pandas-docs/stable/indexing.html#indexing-view-versus-copy\n",
      "  This is separate from the ipykernel package so we can avoid doing imports until\n",
      "/anaconda3/lib/python3.6/site-packages/ipykernel_launcher.py:4: SettingWithCopyWarning: \n",
      "A value is trying to be set on a copy of a slice from a DataFrame.\n",
      "Try using .loc[row_indexer,col_indexer] = value instead\n",
      "\n",
      "See the caveats in the documentation: http://pandas.pydata.org/pandas-docs/stable/indexing.html#indexing-view-versus-copy\n",
      "  after removing the cwd from sys.path.\n"
     ]
    },
    {
     "name": "stdout",
     "output_type": "stream",
     "text": [
      "1.79 s ± 65.2 ms per loop (mean ± std. dev. of 7 runs, 5 loops each)\n"
     ]
    }
   ],
   "source": [
    "%timeit -n 5 list_slice(sub_results)"
   ]
  },
  {
   "cell_type": "code",
   "execution_count": 159,
   "metadata": {},
   "outputs": [
    {
     "name": "stdout",
     "output_type": "stream",
     "text": [
      " "
     ]
    },
    {
     "data": {
      "text/plain": [
       "         51061622 function calls (51061607 primitive calls) in 31.781 seconds\n",
       "\n",
       "   Ordered by: internal time\n",
       "\n",
       "   ncalls  tottime  percall  cumtime  percall filename:lineno(function)\n",
       "        2    8.955    4.477    8.955    4.477 {pandas._libs.lib.map_infer}\n",
       "        1    6.841    6.841    6.841    6.841 {built-in method pandas._libs.lib.astype_unicode}\n",
       " 10211912    5.158    0.000    7.794    0.000 strings.py:1779(f)\n",
       "        2    4.087    2.044   13.192    6.596 {pandas._libs.lib.map_infer_mask}\n",
       " 10212325    1.349    0.000    1.349    0.000 {built-in method builtins.isinstance}\n",
       " 10211912    1.311    0.000    1.311    0.000 strings.py:1508(<lambda>)\n",
       "20423946/20423931    1.287    0.000    1.287    0.000 {built-in method builtins.len}\n",
       "        8    0.868    0.108    0.868    0.108 {method 'copy' of 'numpy.ndarray' objects}\n",
       "        2    0.772    0.386    0.772    0.386 {pandas._libs.missing.isnaobj}\n",
       "        2    0.481    0.240    0.481    0.240 function_base.py:4703(delete)\n",
       "        1    0.393    0.393   31.781   31.781 <ipython-input-114-5a07a853c036>:1(list_slice)\n",
       "        2    0.219    0.110    0.219    0.110 internals.py:375(set)\n",
       "        3    0.026    0.009    0.026    0.009 {method 'clear' of 'dict' objects}\n",
       "        3    0.017    0.006    1.452    0.484 frame.py:3105(__setitem__)\n",
       "        2    0.009    0.004    0.781    0.391 missing.py:189(_isna_ndarraylike)\n",
       "        5    0.002    0.000    0.783    0.157 missing.py:112(_isna_new)\n",
       "        2    0.002    0.001   13.977    6.988 strings.py:148(_na_map)\n",
       "        2    0.000    0.000    9.117    4.558 series.py:3069(apply)\n",
       "      195    0.000    0.000    0.000    0.000 {built-in method builtins.getattr}\n",
       "        3    0.000    0.000    0.701    0.234 internals.py:4208(set)\n",
       "        3    0.000    0.000    0.708    0.236 frame.py:3344(reindexer)\n",
       "       10    0.000    0.000    0.001    0.000 series.py:166(__init__)\n",
       "        3    0.000    0.000    0.000    0.000 range.py:315(equals)\n",
       "        3    0.000    0.000    0.000    0.000 indexing.py:2321(convert_to_index_sliceable)\n",
       "        1    0.000    0.000    6.842    6.842 cast.py:647(astype_nansafe)\n",
       "        3    0.000    0.000    0.708    0.236 frame.py:3324(_sanitize_column)\n",
       "        4    0.000    0.000    0.000    0.000 {built-in method numpy.core.multiarray.empty}\n",
       "      122    0.000    0.000    0.000    0.000 generic.py:7(_check)\n",
       "        3    0.000    0.000    1.435    0.478 frame.py:3182(_set_item)\n",
       "       16    0.000    0.000    0.000    0.000 generic.py:4378(__setattr__)\n",
       "       12    0.000    0.000    0.000    0.000 common.py:1688(is_extension_array_dtype)\n",
       "       31    0.000    0.000    0.000    0.000 range.py:481(__len__)\n",
       "       48    0.000    0.000    0.000    0.000 base.py:61(is_dtype)\n",
       "       10    0.000    0.000    0.000    0.000 internals.py:4639(__init__)\n",
       "       11    0.000    0.000    0.000    0.000 internals.py:116(__init__)\n",
       "       11    0.000    0.000    0.001    0.000 internals.py:3191(make_block)\n",
       "        3    0.000    0.000    0.726    0.242 generic.py:2599(_set_item)\n",
       "        3    0.000    0.000    0.000    0.000 base.py:2053(contains)\n",
       "        2    0.000    0.000   13.975    6.988 strings.py:153(_map)\n",
       "        6    0.000    0.000    0.000    0.000 internals.py:3148(get_block_type)\n",
       "        8    0.000    0.000    0.000    0.000 internals.py:2298(__init__)\n",
       "        3    0.000    0.000    7.002    2.334 internals.py:3500(apply)\n",
       "        4    0.000    0.000    0.000    0.000 cast.py:971(maybe_cast_to_datetime)\n",
       "        6    0.000    0.000    0.000    0.000 internals.py:5208(_get_blkno_placements)\n",
       "        3    0.000    0.000    7.002    2.334 internals.py:577(_astype)\n",
       "       44    0.000    0.000    0.000    0.000 {built-in method builtins.hasattr}\n",
       "        6    0.000    0.000    0.000    0.000 base.py:2033(__contains__)\n",
       "       24    0.000    0.000    0.000    0.000 <frozen importlib._bootstrap>:997(_handle_fromlist)\n",
       "       12    0.000    0.000    0.000    0.000 internals.py:237(mgr_locs)\n",
       "        4    0.000    0.000    0.000    0.000 cast.py:867(maybe_infer_to_datetimelike)\n",
       "        2    0.000    0.000    0.001    0.000 strings.py:1953(_wrap_result)\n",
       "       10    0.000    0.000    0.000    0.000 generic.py:124(__init__)\n",
       "        9    0.000    0.000    0.000    0.000 {method 'get_loc' of 'pandas._libs.index.IndexEngine' objects}\n",
       "        1    0.000    0.000   31.781   31.781 {built-in method builtins.exec}\n",
       "       14    0.000    0.000    0.000    0.000 _weakrefset.py:70(__contains__)\n",
       "        3    0.000    0.000    0.001    0.000 frame.py:2664(__getitem__)\n",
       "       31    0.000    0.000    0.000    0.000 {built-in method builtins.max}\n",
       "        3    0.000    0.000    0.000    0.000 internals.py:4137(iget)\n",
       "       10    0.000    0.000    0.000    0.000 series.py:365(_set_axis)\n",
       "        2    0.000    0.000    0.000    0.000 numeric.py:2862(__exit__)\n",
       "        4    0.000    0.000    0.000    0.000 series.py:4019(_sanitize_array)\n",
       "        3    0.000    0.000    0.000    0.000 shape_base.py:63(atleast_2d)\n",
       "        3    0.000    0.000    7.003    2.334 generic.py:4890(astype)\n",
       "       17    0.000    0.000    0.000    0.000 series.py:401(name)\n",
       "       11    0.000    0.000    0.000    0.000 abc.py:178(__instancecheck__)\n",
       "        6    0.000    0.000    0.000    0.000 base.py:147(__setattr__)\n",
       "        2    0.000    0.000   13.977    6.989 strings.py:1939(__getitem__)\n",
       "       12    0.000    0.000    0.000    0.000 common.py:1629(is_extension_type)\n",
       "       16    0.000    0.000    0.000    0.000 common.py:195(is_categorical)\n",
       "        4    0.000    0.000    0.000    0.000 numeric.py:2460(seterr)\n",
       "        3    0.000    0.000    0.000    0.000 frame.py:3165(_ensure_valid_index)\n",
       "       20    0.000    0.000    0.000    0.000 {built-in method numpy.core.multiarray.array}\n",
       "        4    0.000    0.000    0.000    0.000 {method 'reduce' of 'numpy.ufunc' objects}\n",
       "        9    0.000    0.000    0.000    0.000 common.py:1835(_get_dtype_type)\n",
       "        3    0.000    0.000    0.000    0.000 {pandas._libs.internals.get_blkno_indexers}\n",
       "        4    0.000    0.000    0.000    0.000 series.py:4036(_try_cast)\n",
       "        1    0.000    0.000   31.781   31.781 <string>:1(<module>)\n",
       "       10    0.000    0.000    0.000    0.000 generic.py:4362(__getattr__)\n",
       "        1    0.000    0.000    0.481    0.481 internals.py:385(delete)\n",
       "        3    0.000    0.000    0.026    0.009 generic.py:2577(_clear_item_cache)\n",
       "        2    0.000    0.000    0.000    0.000 numeric.py:621(require)\n",
       "        4    0.000    0.000    0.000    0.000 numeric.py:2560(geterr)\n",
       "       15    0.000    0.000    0.000    0.000 series.py:405(name)\n",
       "       26    0.000    0.000    0.000    0.000 common.py:513(is_categorical_dtype)\n",
       "        2    0.000    0.000    0.000    0.000 strings.py:1894(__init__)\n",
       "        3    0.000    0.000    0.000    0.000 generic.py:2484(_get_item_cache)\n",
       "        9    0.000    0.000    0.000    0.000 base.py:3071(get_loc)\n",
       "        2    0.000    0.000    0.161    0.080 internals.py:774(copy)\n",
       "        3    0.000    0.000    0.000    0.000 internals.py:4108(get)\n",
       "        4    0.000    0.000    0.000    0.000 cast.py:853(maybe_castable)\n",
       "       18    0.000    0.000    0.000    0.000 common.py:369(is_datetime64tz_dtype)\n",
       "        3    0.000    0.000    0.000    0.000 internals.py:3307(shape)\n",
       "       18    0.000    0.000    0.000    0.000 common.py:227(is_datetimetz)\n",
       "        2    0.000    0.000    0.000    0.000 strings.py:1904(_validate)\n",
       "        5    0.000    0.000    0.000    0.000 internals.py:269(make_block_same_class)\n",
       "       62    0.000    0.000    0.000    0.000 {built-in method builtins.issubclass}\n",
       "       21    0.000    0.000    0.000    0.000 common.py:122(is_sparse)\n",
       "        4    0.000    0.000    0.000    0.000 internals.py:199(external_values)\n",
       "        8    0.000    0.000    0.000    0.000 {built-in method pandas._libs.lib.is_scalar}\n",
       "       15    0.000    0.000    0.000    0.000 internals.py:4684(_block)\n",
       "        1    0.000    0.000    0.000    0.000 {method 'delete' of 'pandas._libs.internals.BlockPlacement' objects}\n",
       "        6    0.000    0.000    0.000    0.000 common.py:395(_apply_if_callable)\n",
       "        3    0.000    0.000    0.000    0.000 frame.py:3100(_box_col_values)\n",
       "        8    0.000    0.000    0.000    0.000 internals.py:4718(dtype)\n",
       "       11    0.000    0.000    0.000    0.000 internals.py:127(_check_ndim)\n",
       "       11    0.000    0.000    0.000    0.000 common.py:89(is_object_dtype)\n",
       "        5    0.000    0.000    0.000    0.000 generic.py:4345(__finalize__)\n",
       "        2    0.000    0.000    0.000    0.000 {method 'view' of 'numpy.ndarray' objects}\n",
       "       11    0.000    0.000    0.000    0.000 inference.py:251(is_list_like)\n",
       "        2    0.000    0.000    0.000    0.000 dtypes.py:707(is_dtype)\n",
       "        4    0.000    0.000    0.000    0.000 internals.py:4742(external_values)\n",
       "        3    0.000    0.000    7.002    2.334 internals.py:3713(astype)\n",
       "        4    0.000    0.000    0.000    0.000 {method 'reshape' of 'numpy.ndarray' objects}\n",
       "        4    0.000    0.000    0.000    0.000 {built-in method numpy.core.umath.seterrobj}\n",
       "        3    0.000    0.000    7.003    2.334 _decorators.py:136(wrapper)\n",
       "        3    0.000    0.000    0.000    0.000 frame.py:844(__len__)\n",
       "        3    0.000    0.000    0.000    0.000 internals.py:4745(internal_values)\n",
       "        3    0.000    0.000    7.002    2.334 internals.py:573(astype)\n",
       "        2    0.000    0.000    0.000    0.000 {built-in method numpy.core.multiarray.copyto}\n",
       "        2    0.000    0.000    0.000    0.000 {built-in method pandas._libs.lib.infer_datetimelike_array}\n",
       "       10    0.000    0.000    0.000    0.000 inference.py:415(is_hashable)\n",
       "        2    0.000    0.000    0.000    0.000 accessor.py:129(__get__)\n",
       "        3    0.000    0.000    0.000    0.000 base.py:2067(__getitem__)\n",
       "       10    0.000    0.000    0.000    0.000 base.py:4914(_ensure_index)\n",
       "        3    0.000    0.000    0.000    0.000 frame.py:3093(_box_item_values)\n",
       "       16    0.000    0.000    0.000    0.000 internals.py:3384(_get_items)\n",
       "       19    0.000    0.000    0.000    0.000 internals.py:233(mgr_locs)\n",
       "        4    0.000    0.000    0.000    0.000 {method 'ravel' of 'numpy.ndarray' objects}\n",
       "        2    0.000    0.000    0.000    0.000 common.py:546(is_string_dtype)\n",
       "        3    0.000    0.000    0.000    0.000 common.py:811(is_integer_dtype)\n",
       "        3    0.000    0.000    0.000    0.000 frame.py:2690(_getitem_column)\n",
       "        3    0.000    0.000    0.000    0.000 internals.py:372(iget)\n",
       "        2    0.000    0.000    0.000    0.000 numeric.py:146(ones)\n",
       "        7    0.000    0.000    0.000    0.000 numeric.py:424(asarray)\n",
       "        4    0.000    0.000    0.000    0.000 numeric.py:692(<genexpr>)\n",
       "        3    0.000    0.000    0.000    0.000 generic.py:2498(_set_as_cached)\n",
       "        3    0.000    0.000    0.000    0.000 series.py:465(_values)\n",
       "        2    0.000    0.000    0.000    0.000 common.py:477(is_interval_dtype)\n",
       "        1    0.000    0.000    3.795    3.795 strings.py:2490(slice)\n",
       "       19    0.000    0.000    0.000    0.000 {built-in method builtins.hash}\n",
       "        2    0.000    0.000    0.000    0.000 {built-in method numpy.core.multiarray.can_cast}\n",
       "        8    0.000    0.000    0.000    0.000 {built-in method numpy.core.umath.geterrobj}\n",
       "        5    0.000    0.000    0.783    0.157 missing.py:32(isna)\n",
       "        3    0.000    0.000    0.000    0.000 concat.py:105(_get_sliced_frame_result_type)\n",
       "        3    0.000    0.000    0.000    0.000 internals.py:5101(_extend_blocks)\n",
       "       10    0.000    0.000    0.000    0.000 series.py:391(_set_subtyp)\n",
       "        8    0.000    0.000    0.000    0.000 series.py:412(dtype)\n",
       "        2    0.000    0.000    0.000    0.000 {built-in method numpy.core.multiarray.arange}\n",
       "        2    0.000    0.000    0.000    0.000 numeric.py:2853(__init__)\n",
       "        4    0.000    0.000    0.000    0.000 _methods.py:40(_all)\n",
       "        2    0.000    0.000    0.000    0.000 common.py:444(is_period_dtype)\n",
       "        2    0.000    0.000    0.000    0.000 common.py:1490(is_string_like_dtype)\n",
       "        2    0.000    0.000    0.000    0.000 dtypes.py:584(is_dtype)\n",
       "        1    0.000    0.000   10.182   10.182 strings.py:2404(get)\n",
       "        3    0.000    0.000    0.000    0.000 internals.py:2121(should_store)\n",
       "       13    0.000    0.000    0.000    0.000 internals.py:352(dtype)\n",
       "        2    0.000    0.000    0.000    0.000 {built-in method builtins.all}\n",
       "        4    0.000    0.000    0.000    0.000 {method 'all' of 'numpy.ndarray' objects}\n",
       "        4    0.000    0.000    0.000    0.000 common.py:1784(_get_dtype)\n",
       "        6    0.000    0.000    0.000    0.000 dtypes.py:266(construct_from_string)\n",
       "       10    0.000    0.000    0.000    0.000 numeric.py:110(is_all_dates)\n",
       "        7    0.000    0.000    0.000    0.000 series.py:349(_constructor)\n",
       "        4    0.000    0.000    0.000    0.000 series.py:432(values)\n",
       "        3    0.000    0.000    0.000    0.000 {built-in method pandas._libs.missing.checknull}\n",
       "        4    0.000    0.000    0.000    0.000 cast.py:1232(construct_1d_ndarray_preserving_na)\n",
       "        1    0.000    0.000    3.795    3.795 strings.py:1493(str_slice)\n",
       "        9    0.000    0.000    0.000    0.000 internals.py:3309(<genexpr>)\n",
       "        4    0.000    0.000    0.000    0.000 internals.py:3473(__len__)\n",
       "        9    0.000    0.000    0.000    0.000 {method 'append' of 'list' objects}\n",
       "        1    0.000    0.000    0.000    0.000 {built-in method numpy.core.multiarray.concatenate}\n",
       "        2    0.000    0.000    0.000    0.000 numeric.py:2857(__enter__)\n",
       "        3    0.000    0.000    0.000    0.000 generic.py:2633(_check_setitem_copy)\n",
       "        4    0.000    0.000    0.000    0.000 internals.py:3311(ndim)\n",
       "        3    0.000    0.000    0.000    0.000 internals.py:4235(value_getitem)\n",
       "        3    0.000    0.000    0.000    0.000 internals.py:184(is_categorical_astype)\n",
       "        4    0.000    0.000    0.000    0.000 series.py:562(__len__)\n",
       "        3    0.000    0.000    0.000    0.000 inspect.py:73(isclass)\n",
       "        2    0.000    0.000    0.000    0.000 {built-in method numpy.core.multiarray.normalize_axis_index}\n",
       "        3    0.000    0.000    0.000    0.000 numeric.py:495(asanyarray)\n",
       "        3    0.000    0.000    0.000    0.000 inference.py:364(is_dict_like)\n",
       "        3    0.000    0.000    0.000    0.000 base.py:641(__len__)\n",
       "        1    0.000    0.000   10.182   10.182 strings.py:1729(str_get)\n",
       "        3    0.000    0.000    0.000    0.000 {method 'get' of 'dict' objects}\n",
       "        5    0.000    0.000    0.000    0.000 {method 'pop' of 'dict' objects}\n",
       "        6    0.000    0.000    0.000    0.000 {built-in method builtins.callable}\n",
       "        3    0.000    0.000    0.000    0.000 {built-in method pandas._libs.algos.ensure_int64}\n",
       "        2    0.000    0.000    0.000    0.000 base.py:142(_freeze)\n",
       "        6    0.000    0.000    0.000    0.000 internals.py:4774(_consolidate_inplace)\n",
       "        3    0.000    0.000    0.000    0.000 internals.py:4709(index)\n",
       "        3    0.000    0.000    0.000    0.000 internals.py:203(internal_values)\n",
       "        1    0.000    0.000    0.000    0.000 internals.py:213(get_values)\n",
       "        1    0.000    0.000    0.000    0.000 internals.py:348(shape)\n",
       "        2    0.000    0.000    0.000    0.000 {built-in method pandas._libs.algos.ensure_object}\n",
       "        3    0.000    0.000    0.000    0.000 internals.py:3561(<genexpr>)\n",
       "        1    0.000    0.000    0.000    0.000 internals.py:299(__len__)\n",
       "        1    0.000    0.000    0.000    0.000 {method 'append' of 'pandas._libs.internals.BlockPlacement' objects}\n",
       "        2    0.000    0.000    0.000    0.000 {method 'upper' of 'str' objects}\n",
       "        1    0.000    0.000    0.000    0.000 {method 'disable' of '_lsprof.Profiler' objects}\n",
       "        1    0.000    0.000    0.000    0.000 internals.py:179(is_datelike)"
      ]
     },
     "metadata": {},
     "output_type": "display_data"
    }
   ],
   "source": [
    "%prun list_slice(results)"
   ]
  },
  {
   "cell_type": "code",
   "execution_count": 168,
   "metadata": {},
   "outputs": [
    {
     "name": "stdout",
     "output_type": "stream",
     "text": [
      "peak memory: 1677.89 MiB, increment: 1177.16 MiB\n"
     ]
    }
   ],
   "source": [
    "%memit list_slice(results)"
   ]
  },
  {
   "cell_type": "code",
   "execution_count": 169,
   "metadata": {},
   "outputs": [
    {
     "data": {
      "text/plain": [
       "Timer unit: 1e-06 s\n",
       "\n",
       "Total time: 24.1751 s\n",
       "File: <ipython-input-114-5a07a853c036>\n",
       "Function: list_slice at line 1\n",
       "\n",
       "Line #      Hits         Time  Per Hit   % Time  Line Contents\n",
       "==============================================================\n",
       "     1                                           def list_slice(df):\n",
       "     2         1     909786.0 909786.0      3.8      df[\"events_actor_count\"] = df[\"events_actor_count\"].astype(str)\n",
       "     3         1   14645551.0 14645551.0     60.6      df[\"firstnum\"] = df[\"events_actor_count\"].str[0].apply(int)\n",
       "     4         1    8619732.0 8619732.0     35.7      df[\"secondnum\"] = df[\"events_actor_count\"].str[0:2].apply(int)"
      ]
     },
     "metadata": {},
     "output_type": "display_data"
    }
   ],
   "source": [
    "%lprun -f list_slice list_slice(results)"
   ]
  },
  {
   "cell_type": "markdown",
   "metadata": {},
   "source": [
    "### Math"
   ]
  },
  {
   "cell_type": "code",
   "execution_count": 153,
   "metadata": {},
   "outputs": [
    {
     "name": "stdout",
     "output_type": "stream",
     "text": [
      "17.6 s ± 632 ms per loop (mean ± std. dev. of 7 runs, 5 loops each)\n"
     ]
    }
   ],
   "source": [
    "%timeit -n 5 math_o(results)"
   ]
  },
  {
   "cell_type": "code",
   "execution_count": 157,
   "metadata": {},
   "outputs": [
    {
     "name": "stderr",
     "output_type": "stream",
     "text": [
      "/anaconda3/lib/python3.6/site-packages/ipykernel_launcher.py:2: SettingWithCopyWarning: \n",
      "A value is trying to be set on a copy of a slice from a DataFrame.\n",
      "Try using .loc[row_indexer,col_indexer] = value instead\n",
      "\n",
      "See the caveats in the documentation: http://pandas.pydata.org/pandas-docs/stable/indexing.html#indexing-view-versus-copy\n",
      "  \n",
      "/anaconda3/lib/python3.6/site-packages/ipykernel_launcher.py:3: SettingWithCopyWarning: \n",
      "A value is trying to be set on a copy of a slice from a DataFrame.\n",
      "Try using .loc[row_indexer,col_indexer] = value instead\n",
      "\n",
      "See the caveats in the documentation: http://pandas.pydata.org/pandas-docs/stable/indexing.html#indexing-view-versus-copy\n",
      "  This is separate from the ipykernel package so we can avoid doing imports until\n"
     ]
    },
    {
     "name": "stdout",
     "output_type": "stream",
     "text": [
      "1.87 s ± 150 ms per loop (mean ± std. dev. of 7 runs, 5 loops each)\n"
     ]
    }
   ],
   "source": [
    "%timeit -n 5 math_o(sub_results)"
   ]
  },
  {
   "cell_type": "code",
   "execution_count": 162,
   "metadata": {},
   "outputs": [
    {
     "name": "stdout",
     "output_type": "stream",
     "text": [
      " "
     ]
    },
    {
     "data": {
      "text/plain": [
       "         40848674 function calls (40848670 primitive calls) in 24.867 seconds\n",
       "\n",
       "   Ordered by: internal time\n",
       "\n",
       "   ncalls  tottime  percall  cumtime  percall filename:lineno(function)\n",
       "        2    8.766    4.383   23.889   11.945 {pandas._libs.lib.map_infer}\n",
       " 10211912    6.162    0.000    8.011    0.000 <ipython-input-147-e176f0161497>:3(<lambda>)\n",
       " 10211912    5.611    0.000    7.112    0.000 <ipython-input-147-e176f0161497>:2(<lambda>)\n",
       " 20423824    3.350    0.000    3.350    0.000 {built-in method math.log}\n",
       "        4    0.378    0.095    0.378    0.095 {method 'astype' of 'numpy.ndarray' objects}\n",
       "        2    0.264    0.132    0.264    0.132 internals.py:375(set)\n",
       "        2    0.163    0.082   24.494   12.247 series.py:2904(map)\n",
       "        4    0.066    0.017    0.066    0.017 {method 'copy' of 'numpy.ndarray' objects}\n",
       "        2    0.061    0.031    0.440    0.220 internals.py:577(_astype)\n",
       "        2    0.021    0.010    0.352    0.176 frame.py:3105(__setitem__)\n",
       "        1    0.020    0.020   24.866   24.866 <ipython-input-147-e176f0161497>:1(big_o)\n",
       "        2    0.000    0.000    0.265    0.132 internals.py:4208(set)\n",
       "      228    0.000    0.000    0.000    0.000 {built-in method builtins.isinstance}\n",
       "        2    0.000    0.000   24.330   12.165 base.py:936(_map_values)\n",
       "       81    0.000    0.000    0.000    0.000 {built-in method builtins.getattr}\n",
       "        6    0.000    0.000    0.001    0.000 series.py:166(__init__)\n",
       "        2    0.000    0.000    0.067    0.033 frame.py:3324(_sanitize_column)\n",
       "        2    0.000    0.000    0.151    0.076 cast.py:647(astype_nansafe)\n",
       "       10    0.000    0.000    0.000    0.000 generic.py:4378(__setattr__)\n",
       "    60/56    0.000    0.000    0.000    0.000 {built-in method builtins.len}\n",
       "        6    0.000    0.000    0.000    0.000 internals.py:116(__init__)\n",
       "       47    0.000    0.000    0.000    0.000 {built-in method builtins.issubclass}\n",
       "        1    0.000    0.000   24.867   24.867 {built-in method builtins.exec}\n",
       "       50    0.000    0.000    0.000    0.000 generic.py:7(_check)\n",
       "        2    0.000    0.000    0.440    0.220 internals.py:3500(apply)\n",
       "        6    0.000    0.000    0.000    0.000 internals.py:3191(make_block)\n",
       "        4    0.000    0.000    0.000    0.000 internals.py:5208(_get_blkno_placements)\n",
       "        2    0.000    0.000    0.440    0.220 generic.py:4890(astype)\n",
       "       16    0.000    0.000    0.000    0.000 range.py:481(__len__)\n",
       "        6    0.000    0.000    0.000    0.000 internals.py:4639(__init__)\n",
       "        2    0.000    0.000    0.000    0.000 internals.py:4137(iget)\n",
       "        4    0.000    0.000    0.000    0.000 base.py:2033(__contains__)\n",
       "        2    0.000    0.000    0.000    0.000 frame.py:2664(__getitem__)\n",
       "        2    0.000    0.000    0.265    0.132 generic.py:2599(_set_item)\n",
       "        6    0.000    0.000    0.000    0.000 generic.py:4362(__getattr__)\n",
       "       19    0.000    0.000    0.000    0.000 base.py:61(is_dtype)\n",
       "        6    0.000    0.000    0.000    0.000 {method 'get_loc' of 'pandas._libs.index.IndexEngine' objects}\n",
       "        6    0.000    0.000    0.000    0.000 generic.py:124(__init__)\n",
       "        2    0.000    0.000    0.000    0.000 shape_base.py:63(atleast_2d)\n",
       "        4    0.000    0.000    0.000    0.000 common.py:1688(is_extension_array_dtype)\n",
       "       14    0.000    0.000    0.000    0.000 common.py:1835(_get_dtype_type)\n",
       "        2    0.000    0.000    0.066    0.033 frame.py:3344(reindexer)\n",
       "        5    0.000    0.000    0.000    0.000 inference.py:251(is_list_like)\n",
       "       11    0.000    0.000    0.000    0.000 common.py:513(is_categorical_dtype)\n",
       "        2    0.000    0.000    0.000    0.000 generic.py:2484(_get_item_cache)\n",
       "        1    0.000    0.000    0.000    0.000 internals.py:2081(should_store)\n",
       "        6    0.000    0.000    0.000    0.000 series.py:365(_set_axis)\n",
       "        7    0.000    0.000    0.000    0.000 common.py:1629(is_extension_type)\n",
       "        2    0.000    0.000    0.332    0.166 frame.py:3182(_set_item)\n",
       "        5    0.000    0.000    0.000    0.000 abc.py:178(__instancecheck__)\n",
       "        2    0.000    0.000    0.000    0.000 numeric.py:424(asarray)\n",
       "        2    0.000    0.000    0.000    0.000 {pandas._libs.internals.get_blkno_indexers}\n",
       "       10    0.000    0.000    0.000    0.000 series.py:401(name)\n",
       "        7    0.000    0.000    0.000    0.000 _weakrefset.py:70(__contains__)\n",
       "        6    0.000    0.000    0.000    0.000 base.py:3071(get_loc)\n",
       "        2    0.000    0.000    0.000    0.000 inspect.py:73(isclass)\n",
       "        7    0.000    0.000    0.000    0.000 common.py:195(is_categorical)\n",
       "        4    0.000    0.000    0.000    0.000 numerictypes.py:699(issubdtype)\n",
       "        2    0.000    0.000    0.000    0.000 internals.py:2298(__init__)\n",
       "       10    0.000    0.000    0.000    0.000 series.py:405(name)\n",
       "       16    0.000    0.000    0.000    0.000 {built-in method builtins.max}\n",
       "        2    0.000    0.000    0.000    0.000 generic.py:2577(_clear_item_cache)\n",
       "        2    0.000    0.000    0.227    0.114 internals.py:213(get_values)\n",
       "        6    0.000    0.000    0.000    0.000 internals.py:237(mgr_locs)\n",
       "        6    0.000    0.000    0.000    0.000 <frozen importlib._bootstrap>:997(_handle_fromlist)\n",
       "        2    0.000    0.000    0.000    0.000 internals.py:4108(get)\n",
       "        2    0.000    0.000    0.000    0.000 {method 'reshape' of 'numpy.ndarray' objects}\n",
       "        2    0.000    0.000    0.000    0.000 internals.py:3307(shape)\n",
       "        2    0.000    0.000    0.000    0.000 series.py:4019(_sanitize_array)\n",
       "        2    0.000    0.000    0.440    0.220 _decorators.py:136(wrapper)\n",
       "        2    0.000    0.000    0.000    0.000 frame.py:3093(_box_item_values)\n",
       "        4    0.000    0.000    0.000    0.000 generic.py:4345(__finalize__)\n",
       "        2    0.000    0.000    0.440    0.220 internals.py:3713(astype)\n",
       "       12    0.000    0.000    0.000    0.000 {built-in method builtins.hasattr}\n",
       "        2    0.000    0.000    0.000    0.000 base.py:2053(contains)\n",
       "        2    0.000    0.000    0.000    0.000 indexing.py:2321(convert_to_index_sliceable)\n",
       "        2    0.000    0.000    0.000    0.000 cast.py:853(maybe_castable)\n",
       "        8    0.000    0.000    0.000    0.000 common.py:227(is_datetimetz)\n",
       "        8    0.000    0.000    0.000    0.000 common.py:369(is_datetime64tz_dtype)\n",
       "        2    0.000    0.000    0.000    0.000 frame.py:3100(_box_col_values)\n",
       "        2    0.000    0.000    0.000    0.000 internals.py:348(shape)\n",
       "        1    0.000    0.000   24.866   24.866 <string>:1(<module>)\n",
       "        2    0.000    0.000    0.000    0.000 {method 'clear' of 'dict' objects}\n",
       "        1    0.000    0.000    0.000    0.000 cast.py:971(maybe_cast_to_datetime)\n",
       "       11    0.000    0.000    0.000    0.000 common.py:122(is_sparse)\n",
       "        4    0.000    0.000    0.000    0.000 common.py:332(is_datetime64_dtype)\n",
       "        2    0.000    0.000    0.440    0.220 internals.py:573(astype)\n",
       "        6    0.000    0.000    0.000    0.000 {built-in method numpy.core.multiarray.array}\n",
       "        2    0.000    0.000    0.000    0.000 {method 'ravel' of 'numpy.ndarray' objects}\n",
       "        8    0.000    0.000    0.000    0.000 numerictypes.py:631(issubclass_)\n",
       "        6    0.000    0.000    0.000    0.000 common.py:89(is_object_dtype)\n",
       "        2    0.000    0.000    0.000    0.000 missing.py:112(_isna_new)\n",
       "        2    0.000    0.000    0.000    0.000 internals.py:5101(_extend_blocks)\n",
       "        2    0.000    0.000    0.000    0.000 internals.py:372(iget)\n",
       "        2    0.000    0.000    0.000    0.000 internals.py:3148(get_block_type)\n",
       "        2    0.000    0.000    0.000    0.000 series.py:4036(_try_cast)\n",
       "        6    0.000    0.000    0.000    0.000 inference.py:415(is_hashable)\n",
       "        4    0.000    0.000    0.000    0.000 dtypes.py:266(construct_from_string)\n",
       "        6    0.000    0.000    0.000    0.000 base.py:4914(_ensure_index)\n",
       "        2    0.000    0.000    0.000    0.000 concat.py:105(_get_sliced_frame_result_type)\n",
       "        2    0.000    0.000    0.000    0.000 frame.py:2690(_getitem_column)\n",
       "        6    0.000    0.000    0.000    0.000 internals.py:352(dtype)\n",
       "        1    0.000    0.000    0.000    0.000 cast.py:867(maybe_infer_to_datetimelike)\n",
       "        4    0.000    0.000    0.000    0.000 common.py:395(_apply_if_callable)\n",
       "        2    0.000    0.000    0.000    0.000 base.py:2067(__getitem__)\n",
       "        2    0.000    0.000    0.000    0.000 frame.py:844(__len__)\n",
       "        2    0.000    0.000    0.000    0.000 generic.py:2498(_set_as_cached)\n",
       "        8    0.000    0.000    0.000    0.000 internals.py:3384(_get_items)\n",
       "        6    0.000    0.000    0.000    0.000 internals.py:127(_check_ndim)\n",
       "        6    0.000    0.000    0.000    0.000 series.py:391(_set_subtyp)\n",
       "       12    0.000    0.000    0.000    0.000 {built-in method builtins.hash}\n",
       "        2    0.000    0.000    0.000    0.000 internals.py:4742(external_values)\n",
       "        6    0.000    0.000    0.000    0.000 internals.py:3309(<genexpr>)\n",
       "        2    0.000    0.000    0.000    0.000 internals.py:4718(dtype)\n",
       "        2    0.000    0.000    0.000    0.000 internals.py:269(make_block_same_class)\n",
       "        2    0.000    0.000    0.000    0.000 range.py:315(equals)\n",
       "        1    0.000    0.000    0.000    0.000 internals.py:2121(should_store)\n",
       "        6    0.000    0.000    0.000    0.000 internals.py:4684(_block)\n",
       "        8    0.000    0.000    0.000    0.000 internals.py:233(mgr_locs)\n",
       "        4    0.000    0.000    0.000    0.000 series.py:349(_constructor)\n",
       "        2    0.000    0.000    0.000    0.000 series.py:412(dtype)\n",
       "        2    0.000    0.000    0.000    0.000 series.py:465(_values)\n",
       "        2    0.000    0.000    0.000    0.000 {built-in method pandas._libs.missing.checknull}\n",
       "        2    0.000    0.000    0.000    0.000 inference.py:364(is_dict_like)\n",
       "        4    0.000    0.000    0.000    0.000 common.py:407(is_timedelta64_dtype)\n",
       "        1    0.000    0.000    0.000    0.000 common.py:811(is_integer_dtype)\n",
       "        2    0.000    0.000    0.000    0.000 internals.py:4745(internal_values)\n",
       "        2    0.000    0.000    0.000    0.000 internals.py:4235(value_getitem)\n",
       "        2    0.000    0.000    0.000    0.000 series.py:432(values)\n",
       "        4    0.000    0.000    0.000    0.000 {method 'append' of 'list' objects}\n",
       "        2    0.000    0.000    0.000    0.000 numeric.py:495(asanyarray)\n",
       "        1    0.000    0.000    0.000    0.000 cast.py:1232(construct_1d_ndarray_preserving_na)\n",
       "        2    0.000    0.000    0.000    0.000 missing.py:32(isna)\n",
       "        2    0.000    0.000    0.000    0.000 {built-in method pandas._libs.algos.ensure_int64}\n",
       "        2    0.000    0.000    0.000    0.000 base.py:641(__len__)\n",
       "        6    0.000    0.000    0.000    0.000 numeric.py:110(is_all_dates)\n",
       "        2    0.000    0.000    0.000    0.000 frame.py:3165(_ensure_valid_index)\n",
       "        2    0.000    0.000    0.000    0.000 generic.py:2633(_check_setitem_copy)\n",
       "        4    0.000    0.000    0.000    0.000 internals.py:4774(_consolidate_inplace)\n",
       "        2    0.000    0.000    0.000    0.000 internals.py:3311(ndim)\n",
       "        2    0.000    0.000    0.000    0.000 internals.py:3561(<genexpr>)\n",
       "        2    0.000    0.000    0.000    0.000 internals.py:184(is_categorical_astype)\n",
       "        2    0.000    0.000    0.000    0.000 {method 'pop' of 'dict' objects}\n",
       "        1    0.000    0.000    0.000    0.000 {method 'disable' of '_lsprof.Profiler' objects}\n",
       "        4    0.000    0.000    0.000    0.000 {built-in method pandas._libs.lib.is_scalar}\n",
       "        2    0.000    0.000    0.000    0.000 internals.py:4709(index)\n",
       "        2    0.000    0.000    0.000    0.000 internals.py:199(external_values)\n",
       "        2    0.000    0.000    0.000    0.000 internals.py:203(internal_values)\n",
       "        2    0.000    0.000    0.000    0.000 {method 'get' of 'dict' objects}\n",
       "        4    0.000    0.000    0.000    0.000 {built-in method builtins.callable}"
      ]
     },
     "metadata": {},
     "output_type": "display_data"
    }
   ],
   "source": [
    "%prun math_o(results)"
   ]
  },
  {
   "cell_type": "code",
   "execution_count": 165,
   "metadata": {},
   "outputs": [
    {
     "name": "stdout",
     "output_type": "stream",
     "text": [
      "The memory_profiler extension is already loaded. To reload it, use:\n",
      "  %reload_ext memory_profiler\n",
      "peak memory: 868.30 MiB, increment: 679.06 MiB\n"
     ]
    }
   ],
   "source": [
    "%memit math_o(results)"
   ]
  },
  {
   "cell_type": "code",
   "execution_count": 167,
   "metadata": {},
   "outputs": [
    {
     "data": {
      "text/plain": [
       "Timer unit: 1e-06 s\n",
       "\n",
       "Total time: 24.4156 s\n",
       "File: <ipython-input-164-b2869c6baebf>\n",
       "Function: math_o at line 1\n",
       "\n",
       "Line #      Hits         Time  Per Hit   % Time  Line Contents\n",
       "==============================================================\n",
       "     1                                           def math_o(df):\n",
       "     2         1   12360267.0 12360267.0     50.6      df[\"firstnum_bigo\"] = df[\"events_actor_count\"].map(lambda x: x // 10 ** (int(math.log(x, 10)) - 1 + 1))\n",
       "     3         1   12055357.0 12055357.0     49.4      df[\"secondnum_bigo\"] = df[\"events_actor_count\"].map(lambda x: x // 10 ** (int(math.log(x, 10)) - 2 + 1))"
      ]
     },
     "metadata": {},
     "output_type": "display_data"
    }
   ],
   "source": [
    "%lprun -f math_o math_o(results)"
   ]
  },
  {
   "cell_type": "markdown",
   "metadata": {},
   "source": [
    "**Time / Memory Trade off**"
   ]
  },
  {
   "cell_type": "markdown",
   "metadata": {},
   "source": [
    "# Visualizations"
   ]
  },
  {
   "cell_type": "markdown",
   "metadata": {},
   "source": [
    "https://stackoverflow.com/questions/47404869/calculating-big-o-notation-with-recursion"
   ]
  },
  {
   "cell_type": "code",
   "execution_count": null,
   "metadata": {},
   "outputs": [],
   "source": []
  }
 ],
 "metadata": {
  "kernelspec": {
   "display_name": "Python 3",
   "language": "python",
   "name": "python3"
  },
  "language_info": {
   "codemirror_mode": {
    "name": "ipython",
    "version": 3
   },
   "file_extension": ".py",
   "mimetype": "text/x-python",
   "name": "python",
   "nbconvert_exporter": "python",
   "pygments_lexer": "ipython3",
   "version": "3.6.4"
  }
 },
 "nbformat": 4,
 "nbformat_minor": 2
}
